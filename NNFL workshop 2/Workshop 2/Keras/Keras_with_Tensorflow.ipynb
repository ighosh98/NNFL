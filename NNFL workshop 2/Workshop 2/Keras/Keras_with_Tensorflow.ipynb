{
 "cells": [
  {
   "cell_type": "markdown",
   "metadata": {
    "colab_type": "text",
    "id": "2hkYDN4PEtnb"
   },
   "source": [
    "# Keras with Tensorflow\n",
    "\n",
    "After you have seen PyTorch in action, making your own neural networks might look overwhelming, right? So we have Keras to your rescue!\n",
    "\n",
    "While PyTorch, is essential for understanding how a neural nets are working, and how all you study can actually be put to work, it is not necessary for you to get your head around the nitty-gritty details of writing classes, defining the right functions. You can say that you can drive a car without knowing how the engine works. This is what high-level wrapper APIs like Keras or Fast.ai do.\n",
    "\n"
   ]
  },
  {
   "cell_type": "markdown",
   "metadata": {
    "colab_type": "text",
    "id": "2tKUmrzrH62o"
   },
   "source": [
    "## TensorFlow\n",
    "\n",
    "> TensorFlow is a computational framework for building machine learning models. It is the second generation system from Google Brain headed by Jeff Dean. Launched in early 2017, it has disrupted the ML world by bringing in numerous capabilities from scalability to building production ready models. \n",
    "\n",
    "In short and simple words, Tensorflow is same(**more complicated and tough**) low-level library for deep learning as PyTorch. Okay, if you like it difficult, go play with Tensorflow in C++.\n",
    "\n",
    "![TensorFlow toolkit hierarchy ](https://rviews.rstudio.com/post/2017-12-7-Rickert-TensorFlow_files/tfestimators.png)\n",
    "\n",
    "\n",
    "\n",
    "But we won't be discussing much of TensorFlow as it might go overboard for a beginner.\n",
    "\n",
    "##Keras\n",
    "\n",
    "> Keras is a high-level neural networks API, written in Python and capable of running on top of TensorFlow, CNTK, or Theano. It was developed with a focus on enabling fast experimentation. Being able to go from idea to result with the least possible delay is key to doing good research.\n",
    "\n",
    "So, what can we do with Keras?\n",
    "\n",
    "* Allows for easy and fast prototyping (through user friendliness, modularity, and extensibility).\n",
    "* Supports both convolutional networks and recurrent networks, as well as combinations of the two.\n",
    "* Runs seamlessly on CPU and GPU.\n",
    "\n",
    "### Installation\n",
    "\n",
    "**Step 1:** Install Tensorflow, you can find the instructions [here](https://www.tensorflow.org/install/pip).\n",
    "\n",
    "**Step 2:** Install Keras \n"
   ]
  },
  {
   "cell_type": "code",
   "execution_count": 1,
   "metadata": {
    "colab": {
     "base_uri": "https://localhost:8080/",
     "height": 163
    },
    "colab_type": "code",
    "id": "6lmk5vSiPFTh",
    "outputId": "9eebc4b5-b554-4fd0-e4b7-de1661fbb662"
   },
   "outputs": [
    {
     "name": "stdout",
     "output_type": "stream",
     "text": [
      "Requirement already satisfied: keras in c:\\program files\\python36\\lib\\site-packages (2.2.4)\n",
      "Requirement already satisfied: six>=1.9.0 in c:\\users\\suvigya\\appdata\\roaming\\python\\python36\\site-packages (from keras) (1.11.0)\n",
      "Requirement already satisfied: keras-preprocessing>=1.0.5 in c:\\users\\suvigya\\appdata\\roaming\\python\\python36\\site-packages (from keras) (1.0.5)\n",
      "Requirement already satisfied: numpy>=1.9.1 in c:\\program files\\python36\\lib\\site-packages (from keras) (1.15.4)\n",
      "Requirement already satisfied: scipy>=0.14 in c:\\program files\\python36\\lib\\site-packages (from keras) (1.2.0)\n",
      "Requirement already satisfied: h5py in c:\\users\\suvigya\\appdata\\roaming\\python\\python36\\site-packages (from keras) (2.8.0)\n",
      "Requirement already satisfied: keras-applications>=1.0.6 in c:\\users\\suvigya\\appdata\\roaming\\python\\python36\\site-packages (from keras) (1.0.6)\n",
      "Requirement already satisfied: pyyaml in c:\\program files\\python36\\lib\\site-packages (from keras) (3.13)\n"
     ]
    },
    {
     "name": "stderr",
     "output_type": "stream",
     "text": [
      "You are using pip version 18.1, however version 19.0.3 is available.\n",
      "You should consider upgrading via the 'python -m pip install --upgrade pip' command.\n"
     ]
    }
   ],
   "source": [
    "!pip3 install keras"
   ]
  },
  {
   "cell_type": "markdown",
   "metadata": {
    "colab_type": "text",
    "id": "flTMGwPoGhvq"
   },
   "source": [
    "# So let's make Neural Nets uncool again! ;)\n",
    "\n",
    "Let's get started by Keras and all necessary modules that we will be needing during this tutorial.\n",
    "\n",
    "**Note:** This notebook runs in parallel with the Pytorch notebook, so you can actually compare what suits you, and understand the difference between the two."
   ]
  },
  {
   "cell_type": "code",
   "execution_count": 4,
   "metadata": {
    "colab": {
     "base_uri": "https://localhost:8080/",
     "height": 35
    },
    "colab_type": "code",
    "id": "7G0TBsuqDs_k",
    "outputId": "226e7258-e6d5-4480-f6ce-066ea68dd464"
   },
   "outputs": [],
   "source": [
    "import numpy as np\n",
    "import pandas as pd\n",
    "import keras\n",
    "import matplotlib.pyplot as plt\n",
    "\n",
    "# Some beautification\n",
    "from IPython.display import display, HTML\n",
    "%matplotlib inline"
   ]
  },
  {
   "cell_type": "markdown",
   "metadata": {
    "colab_type": "text",
    "id": "8OYLX5ycRBwe"
   },
   "source": [
    "### Important Note\n",
    "\n",
    "Keras works with neural networks in terms of layers, so you don't need to care much about how you would define, activation functions, optimizers, or any other. Everything is in-built in Keras as paramters of the layers you add. Even activation is defined as a layer which you will see later.\n",
    "\n",
    "Keras is about enabling fast on-the-fly experimentation, so you just need to follow these basic steps to train you neural network and get your predictions from it, in most cases:\n",
    "\n",
    "\n",
    "0. Think about your neural network\n",
    "1. Import(and preprocess) data\n",
    "2. Define your neural network/model\n",
    "3. Compile your model\n",
    "4. Define the callbacks if any\n",
    "5. Call the `fit` method to train\n",
    "6. Evaluate your model, using validation or `evaluate` method\n",
    "7. Predict using `predict` method\n",
    "\n"
   ]
  },
  {
   "cell_type": "markdown",
   "metadata": {
    "colab_type": "text",
    "id": "cais13yuPpFK"
   },
   "source": [
    "## 1. Import Data\n",
    "\n",
    "We will be using the MNIST Dataset again.\n",
    "\n",
    "Let's download the data, and split it into train and test sets:"
   ]
  },
  {
   "cell_type": "code",
   "execution_count": 5,
   "metadata": {
    "colab": {},
    "colab_type": "code",
    "id": "GHOYdvOR7RPB"
   },
   "outputs": [],
   "source": [
    "from keras.datasets import mnist\n",
    "\n",
    "(X_train, y_train), (X_test, y_test) = mnist.load_data()"
   ]
  },
  {
   "cell_type": "markdown",
   "metadata": {
    "colab_type": "text",
    "id": "o5KKiFv07FbI"
   },
   "source": [
    "Also let's print out the shape of our data:"
   ]
  },
  {
   "cell_type": "code",
   "execution_count": 6,
   "metadata": {
    "colab": {
     "base_uri": "https://localhost:8080/",
     "height": 90
    },
    "colab_type": "code",
    "id": "VXOwb0YMPkzJ",
    "outputId": "3b2f950d-129e-41d3-fc00-aecb64a06dcd"
   },
   "outputs": [
    {
     "name": "stdout",
     "output_type": "stream",
     "text": [
      "X_train shape (60000, 28, 28)\n",
      "y_train shape (60000,)\n",
      "X_test shape (10000, 28, 28)\n",
      "y_test shape (10000,)\n"
     ]
    }
   ],
   "source": [
    "print(\"X_train shape\", X_train.shape)\n",
    "print(\"y_train shape\", y_train.shape)\n",
    "print(\"X_test shape\", X_test.shape)\n",
    "print(\"y_test shape\", y_test.shape)"
   ]
  },
  {
   "cell_type": "markdown",
   "metadata": {
    "colab_type": "text",
    "id": "wzJNGjf3zGfs"
   },
   "source": [
    "Using matplotlib, we can plot some sample images from the training set directly into this Jupyter Notebook."
   ]
  },
  {
   "cell_type": "code",
   "execution_count": 7,
   "metadata": {
    "colab": {
     "base_uri": "https://localhost:8080/",
     "height": 657
    },
    "colab_type": "code",
    "id": "rN4WAeG8V-aZ",
    "outputId": "9fc4e7dc-2491-46a2-928a-4cefc84618d2"
   },
   "outputs": [
    {
     "data": {
      "image/png": "[encoded data removed]",
      "text/plain": [
       "<Figure size 648x648 with 9 Axes>"
      ]
     },
     "metadata": {
      "needs_background": "light"
     },
     "output_type": "display_data"
    }
   ],
   "source": [
    "plt.rcParams['figure.figsize'] = (9,9) # Make the figures a bit bigger\n",
    "\n",
    "for i in range(9):\n",
    "    plt.subplot(3,3,i+1)\n",
    "    num = np.random.randint(0, len(X_train))\n",
    "    plt.imshow(X_train[num], cmap='gray', interpolation='none')\n",
    "    plt.title(\"Class {}\".format(y_train[num]))\n",
    "    \n",
    "plt.tight_layout()"
   ]
  },
  {
   "cell_type": "markdown",
   "metadata": {
    "colab_type": "text",
    "id": "-1ijzy-nX757"
   },
   "source": [
    "Let's examine a single digit a little closer, and print out the array representing a digit."
   ]
  },
  {
   "cell_type": "code",
   "execution_count": 8,
   "metadata": {
    "colab": {
     "base_uri": "https://localhost:8080/",
     "height": 1046
    },
    "colab_type": "code",
    "id": "bX80QWcmXpXa",
    "outputId": "acd5a731-3f15-4fea-c549-7a689199b8c1"
   },
   "outputs": [
    {
     "data": {
      "image/png": "[encoded data removed]",
      "text/plain": [
       "<Figure size 648x648 with 1 Axes>"
      ]
     },
     "metadata": {
      "needs_background": "light"
     },
     "output_type": "display_data"
    },
    {
     "name": "stdout",
     "output_type": "stream",
     "text": [
      "0  0  0  0  0  0   0    0    0    0    0    0    0    0    0    0    0    0    0    0    0    0    0  0  0  0  0  0  \n",
      "0  0  0  0  0  0   0    0    0    0    0    0    0    0    0    0    0    0    0    0    0    0    0  0  0  0  0  0  \n",
      "0  0  0  0  0  0   0    0    0    0    0    0    0    0    0    0    0    0    0    0    0    0    0  0  0  0  0  0  \n",
      "0  0  0  0  0  0   0    0    0    0    0    0    0    0    0    0    0    0    0    0    0    0    0  0  0  0  0  0  \n",
      "0  0  0  0  0  0   0    0    0    0    0    0    0    0    0   51  159  253  159   50    0    0    0  0  0  0  0  0  \n",
      "0  0  0  0  0  0   0    0    0    0    0    0    0    0   48  238  252  252  252  237    0    0    0  0  0  0  0  0  \n",
      "0  0  0  0  0  0   0    0    0    0    0    0    0   54  227  253  252  239  233  252   57    6    0  0  0  0  0  0  \n",
      "0  0  0  0  0  0   0    0    0    0    0   10   60  224  252  253  252  202   84  252  253  122    0  0  0  0  0  0  \n",
      "0  0  0  0  0  0   0    0    0    0    0  163  252  252  252  253  252  252   96  189  253  167    0  0  0  0  0  0  \n",
      "0  0  0  0  0  0   0    0    0    0   51  238  253  253  190  114  253  228   47   79  255  168    0  0  0  0  0  0  \n",
      "0  0  0  0  0  0   0    0    0   48  238  252  252  179   12   75  121   21    0    0  253  243   50  0  0  0  0  0  \n",
      "0  0  0  0  0  0   0    0   38  165  253  233  208   84    0    0    0    0    0    0  253  252  165  0  0  0  0  0  \n",
      "0  0  0  0  0  0   0    7  178  252  240   71   19   28    0    0    0    0    0    0  253  252  195  0  0  0  0  0  \n",
      "0  0  0  0  0  0   0   57  252  252   63    0    0    0    0    0    0    0    0    0  253  252  195  0  0  0  0  0  \n",
      "0  0  0  0  0  0   0  198  253  190    0    0    0    0    0    0    0    0    0    0  255  253  196  0  0  0  0  0  \n",
      "0  0  0  0  0  0  76  246  252  112    0    0    0    0    0    0    0    0    0    0  253  252  148  0  0  0  0  0  \n",
      "0  0  0  0  0  0  85  252  230   25    0    0    0    0    0    0    0    0    7  135  253  186   12  0  0  0  0  0  \n",
      "0  0  0  0  0  0  85  252  223    0    0    0    0    0    0    0    0    7  131  252  225   71    0  0  0  0  0  0  \n",
      "0  0  0  0  0  0  85  252  145    0    0    0    0    0    0    0   48  165  252  173    0    0    0  0  0  0  0  0  \n",
      "0  0  0  0  0  0  86  253  225    0    0    0    0    0    0  114  238  253  162    0    0    0    0  0  0  0  0  0  \n",
      "0  0  0  0  0  0  85  252  249  146   48   29   85  178  225  253  223  167   56    0    0    0    0  0  0  0  0  0  \n",
      "0  0  0  0  0  0  85  252  252  252  229  215  252  252  252  196  130    0    0    0    0    0    0  0  0  0  0  0  \n",
      "0  0  0  0  0  0  28  199  252  252  253  252  252  233  145    0    0    0    0    0    0    0    0  0  0  0  0  0  \n",
      "0  0  0  0  0  0   0   25  128  252  253  252  141   37    0    0    0    0    0    0    0    0    0  0  0  0  0  0  \n",
      "0  0  0  0  0  0   0    0    0    0    0    0    0    0    0    0    0    0    0    0    0    0    0  0  0  0  0  0  \n",
      "0  0  0  0  0  0   0    0    0    0    0    0    0    0    0    0    0    0    0    0    0    0    0  0  0  0  0  0  \n",
      "0  0  0  0  0  0   0    0    0    0    0    0    0    0    0    0    0    0    0    0    0    0    0  0  0  0  0  0  \n",
      "0  0  0  0  0  0   0    0    0    0    0    0    0    0    0    0    0    0    0    0    0    0    0  0  0  0  0  0  \n"
     ]
    }
   ],
   "source": [
    "# just a little function for pretty printing a matrix\n",
    "def matprint(mat, fmt=\"g\"):\n",
    "    col_maxes = [max([len((\"{:\"+fmt+\"}\").format(x)) for x in col]) for col in mat.T]\n",
    "    for x in mat:\n",
    "        for i, y in enumerate(x):\n",
    "            print((\"{:\"+str(col_maxes[i])+fmt+\"}\").format(y), end=\"  \")\n",
    "        print(\"\")\n",
    "\n",
    "\n",
    "digit = X_train[1]\n",
    "\n",
    "plt.imshow(digit, cmap='gray', interpolation='none')\n",
    "plt.show()\n",
    "matprint(digit)"
   ]
  },
  {
   "cell_type": "markdown",
   "metadata": {
    "colab_type": "text",
    "id": "sPUOkgdJ5DKn"
   },
   "source": [
    "\n",
    "Each pixel is an 8-bit integer from 0-255. 0 is full black, while 255 is full white. This what we call a single-channel pixel. It's called monochrome."
   ]
  },
  {
   "cell_type": "markdown",
   "metadata": {
    "colab_type": "text",
    "id": "3rFiu8wWIHss"
   },
   "source": [
    "## 1.1 Preprocessing\n",
    "\n",
    "nstead of a 28 x 28 matrix, we build our network to accept a 784-length vector.\n",
    "\n",
    "Each image needs to be then reshaped (or flattened) into a vector. We'll also normalize the inputs to be in the range [0-1] rather than [0-255]. Normalizing inputs is generally recommended, so that any additional dimensions (for other network architectures) are of the same scale.\n",
    "\n",
    "![Flattening](https://raw.githubusercontent.com/AviatorMoser/keras-mnist-tutorial/master/flatten.png)"
   ]
  },
  {
   "cell_type": "code",
   "execution_count": 9,
   "metadata": {
    "colab": {
     "base_uri": "https://localhost:8080/",
     "height": 54
    },
    "colab_type": "code",
    "id": "GgN-Ku7pIlvy",
    "outputId": "ad282955-53ce-434b-d54f-faea163721c0"
   },
   "outputs": [
    {
     "name": "stdout",
     "output_type": "stream",
     "text": [
      "Training matrix shape (60000, 784)\n",
      "Testing matrix shape (10000, 784)\n"
     ]
    }
   ],
   "source": [
    "import keras.utils as np_utils\n",
    "\n",
    "X_train = X_train.reshape(60000, 784) # reshape 60,000 28 x 28 matrices into 60,000 784-length vectors.\n",
    "X_test = X_test.reshape(10000, 784)   # reshape 10,000 28 x 28 matrices into 10,000 784-length vectors.\n",
    "\n",
    "X_train = X_train.astype('float32')   # change integers to 32-bit floating point numbers\n",
    "X_test = X_test.astype('float32')\n",
    "\n",
    "# X_train /= 255                        # normalize each value for each pixel for the entire vector for each input\n",
    "# X_test /= 255\n",
    "\n",
    "X_train = np_utils.normalize(X_train, axis=-1)\n",
    "X_test = np_utils.normalize(X_test, axis=-1)\n",
    "\n",
    "print(\"Training matrix shape\", X_train.shape)\n",
    "print(\"Testing matrix shape\", X_test.shape)"
   ]
  },
  {
   "cell_type": "markdown",
   "metadata": {
    "colab_type": "text",
    "id": "nGxzYdhxJHpI"
   },
   "source": [
    "We then modify our classes (unique digits) to be in the one-hot format, i.e.\n",
    "\n",
    "```\n",
    "0 -> [1, 0, 0, 0, 0, 0, 0, 0, 0]\n",
    "1 -> [0, 1, 0, 0, 0, 0, 0, 0, 0]\n",
    "2 -> [0, 0, 1, 0, 0, 0, 0, 0, 0]\n",
    "etc.\n",
    "```\n",
    "\n",
    "If the final output of our network is very close to one of these classes, then it is most likely that class. For example, if the final output is:\n",
    "\n",
    "```\n",
    "[0, 0.94, 0, 0, 0, 0, 0.06, 0, 0]\n",
    "```\n",
    "then it is most probable that the image is that of the digit `1`.\n",
    "\n",
    "This is done by `to_categorical` method provided in Keras utils."
   ]
  },
  {
   "cell_type": "code",
   "execution_count": 10,
   "metadata": {
    "colab": {},
    "colab_type": "code",
    "id": "-qPJhw-JJMlI"
   },
   "outputs": [],
   "source": [
    "import keras.utils as np_utils\n",
    "\n",
    "nb_classes = 10 # number of unique digits\n",
    "\n",
    "Y_train = np_utils.to_categorical(y_train, nb_classes)\n",
    "Y_test = np_utils.to_categorical(y_test, nb_classes)"
   ]
  },
  {
   "cell_type": "markdown",
   "metadata": {
    "colab_type": "text",
    "id": "tVkjwYWobHCf"
   },
   "source": [
    "## 2. Define your model\n",
    "\n",
    "Like PyTorch, there are two ways you can define your neural networks:\n",
    "\n",
    "1. Sequential Model Approach\n",
    "2. Functional Model Approach\n",
    "\n",
    "We will be building the same network as we did in Pytorch to understand the difference between both the frameworks better.\n",
    "\n",
    "![Neural Network](https://i.ibb.co/6tsgXYj/mlp-mnist.png)\n",
    "\n"
   ]
  },
  {
   "cell_type": "markdown",
   "metadata": {
    "colab_type": "text",
    "id": "96KOdxqt66kh"
   },
   "source": [
    "### 2.1 Sequential Model\n",
    "\n",
    "As the name says, sequential model is simply a sequence of layers added one after another to make a model. The Sequential model API is great for developing deep learning models in most situations, but it also has some limitations. For example, it is not straightforward to define models that may have multiple different input sources, produce multiple output destinations or models that re-use layers.\n",
    "\n",
    "Official Documentation for Core Layers is given [here](https://keras.io/layers/core/)."
   ]
  },
  {
   "cell_type": "code",
   "execution_count": 11,
   "metadata": {
    "colab": {
     "base_uri": "https://localhost:8080/",
     "height": 365
    },
    "colab_type": "code",
    "id": "CF-1uC8kbBiK",
    "outputId": "9d57e358-9009-497d-ee7b-43b5bb934c4f"
   },
   "outputs": [
    {
     "name": "stdout",
     "output_type": "stream",
     "text": [
      "_________________________________________________________________\n",
      "Layer (type)                 Output Shape              Param #   \n",
      "=================================================================\n",
      "dense_1 (Dense)              (None, 128)               100480    \n",
      "_________________________________________________________________\n",
      "activation_1 (Activation)    (None, 128)               0         \n",
      "_________________________________________________________________\n",
      "dense_2 (Dense)              (None, 64)                8256      \n",
      "_________________________________________________________________\n",
      "dense_3 (Dense)              (None, 10)                650       \n",
      "=================================================================\n",
      "Total params: 109,386\n",
      "Trainable params: 109,386\n",
      "Non-trainable params: 0\n",
      "_________________________________________________________________\n"
     ]
    }
   ],
   "source": [
    "from keras.models import Sequential\n",
    "from keras.layers import Dense, Activation\n",
    "\n",
    "model = Sequential()\n",
    "\n",
    "model.add(Dense(128, input_shape=(784,)))\n",
    "model.add(Activation('relu'))\n",
    "model.add(Dense(64, activation='relu'))\n",
    "model.add(Dense(10, activation='softmax'))\n",
    "\n",
    "model.summary()"
   ]
  },
  {
   "cell_type": "markdown",
   "metadata": {
    "colab_type": "text",
    "id": "89kyZFGT9wyu"
   },
   "source": [
    "And the best part about keras is that you can see your model summary, so that can you can be sure about what you built."
   ]
  },
  {
   "cell_type": "code",
   "execution_count": 10,
   "metadata": {
    "colab": {
     "base_uri": "https://localhost:8080/",
     "height": 541
    },
    "colab_type": "code",
    "id": "QOCM2M-C9gfd",
    "outputId": "ebcc3d50-bdb4-45b1-c890-7e031171831b"
   },
   "outputs": [
    {
     "data": {
      "image/png": "[encoded data removed]",
      "text/plain": [
       "<Figure size 648x648 with 1 Axes>"
      ]
     },
     "metadata": {
      "tags": []
     },
     "output_type": "display_data"
    }
   ],
   "source": [
    "from keras.utils import plot_model\n",
    "plot_model(model, to_file='model.png')\n",
    "\n",
    "from PIL import Image\n",
    "\n",
    "im = Image.open('model.png')\n",
    "plt.imshow(im)\n",
    "plt.show()"
   ]
  },
  {
   "cell_type": "markdown",
   "metadata": {
    "colab_type": "text",
    "id": "quBLyXMz_sAI"
   },
   "source": [
    "### 2.2 Functional Model\n",
    "\n",
    "The Keras functional API provides a more flexible way for defining models. It specifically allows you to define multiple input or output models as well as models that share layers. More than that, it allows you to define ad hoc acyclic network graphs.\n",
    "\n",
    "As the name suggests, now layers are defined as functions, for example every Dense layer is a function with some parameters and takes some input and gives an output, giving us more control over each layer."
   ]
  },
  {
   "cell_type": "code",
   "execution_count": 9,
   "metadata": {
    "colab": {
     "base_uri": "https://localhost:8080/",
     "height": 290
    },
    "colab_type": "code",
    "id": "v396JkVC99EL",
    "outputId": "3da9d5a2-249e-4b37-f106-096ad36e9f32"
   },
   "outputs": [
    {
     "name": "stdout",
     "output_type": "stream",
     "text": [
      "_________________________________________________________________\n",
      "Layer (type)                 Output Shape              Param #   \n",
      "=================================================================\n",
      "input_1 (InputLayer)         (None, 784)               0         \n",
      "_________________________________________________________________\n",
      "dense_4 (Dense)              (None, 128)               100480    \n",
      "_________________________________________________________________\n",
      "dense_5 (Dense)              (None, 64)                8256      \n",
      "_________________________________________________________________\n",
      "dense_6 (Dense)              (None, 10)                650       \n",
      "=================================================================\n",
      "Total params: 109,386\n",
      "Trainable params: 109,386\n",
      "Non-trainable params: 0\n",
      "_________________________________________________________________\n"
     ]
    }
   ],
   "source": [
    "from keras.layers import Input, Dense\n",
    "from keras.models import Model\n",
    "\n",
    "inputs = Input(shape=(784,))\n",
    "x = Dense(128, activation='relu')(inputs)\n",
    "x = Dense(64, activation='relu')(x)\n",
    "predictions = Dense(10, activation='softmax')(x)\n",
    "\n",
    "model = Model(inputs=inputs, outputs=predictions)\n",
    "\n",
    "model.summary()"
   ]
  },
  {
   "cell_type": "code",
   "execution_count": 12,
   "metadata": {
    "colab": {
     "base_uri": "https://localhost:8080/",
     "height": 540
    },
    "colab_type": "code",
    "id": "EPdU7lNWA1m9",
    "outputId": "9fcb9815-e200-45ce-adae-9e0d77c755e3"
   },
   "outputs": [
    {
     "data": {
      "image/png": "[encoded data removed]",
      "text/plain": [
       "<Figure size 648x648 with 1 Axes>"
      ]
     },
     "metadata": {
      "tags": []
     },
     "output_type": "display_data"
    }
   ],
   "source": [
    "from keras.utils import plot_model\n",
    "plot_model(model, to_file='model.png')\n",
    "\n",
    "from PIL import Image\n",
    "\n",
    "im = Image.open('model.png')\n",
    "plt.imshow(im)\n",
    "plt.show()"
   ]
  },
  {
   "cell_type": "markdown",
   "metadata": {
    "colab_type": "text",
    "id": "4JKSHHeLBKis"
   },
   "source": [
    "If you are curious about how you can further customize your models, you can refer a post [here](https://machinelearningmastery.com/keras-functional-api-deep-learning/) which talks about all possible models you can make with the Functional API."
   ]
  },
  {
   "cell_type": "markdown",
   "metadata": {
    "colab_type": "text",
    "id": "W65AgAoVBiZ1"
   },
   "source": [
    "## 3. Compile Your Model\n",
    "\n",
    "After defining a model you need to compile it, which means you need to define an optimizer, loss function, and other optional parameters like metrics you want to monitor.\n",
    "\n",
    "Selecting an optimizer and loss function as easy as picking swiping a credit card.\n",
    "\n",
    "Official Documentation of Loss Fucntions can be found [here](https://keras.io/losses/).\n",
    "\n",
    "Official Documentation of Optimizers can be found [here](https://keras.io/optimizers/)."
   ]
  },
  {
   "cell_type": "code",
   "execution_count": 12,
   "metadata": {
    "colab": {},
    "colab_type": "code",
    "id": "aK7D2AL9BAVt"
   },
   "outputs": [],
   "source": [
    "model.compile(optimizer='adam', loss='categorical_crossentropy', metrics=['accuracy'])"
   ]
  },
  {
   "cell_type": "markdown",
   "metadata": {
    "colab_type": "text",
    "id": "Si7hXGrpDNcS"
   },
   "source": [
    "That's it, done! It initializes 'adam' optimizer with default values and sets the loss to cross-entropy.\n",
    "\n",
    "Suppose you want to customize some parameters about the optimizer, well that's easy too."
   ]
  },
  {
   "cell_type": "code",
   "execution_count": 11,
   "metadata": {
    "colab": {},
    "colab_type": "code",
    "id": "N6KalG2_DLI_"
   },
   "outputs": [],
   "source": [
    "# suppose we wanted to set learning rate to 0.01\n",
    "from keras.optimizers import Adam\n",
    "\n",
    "model.compile(optimizer=Adam(lr=0.01), loss='categorical_crossentropy', metrics=['accuracy'])"
   ]
  },
  {
   "cell_type": "markdown",
   "metadata": {
    "colab_type": "text",
    "id": "A8kcYBgUEbKG"
   },
   "source": [
    "## 4. Define Callbacks\n",
    "\n",
    "Well, this is why I like Keras better than any other frameworks, Keras has got a lot of powerful callbacks that help you achieve complex functionality on'-the-fly, while you are training your model.\n",
    "\n",
    "A callback is a function that is to be executed after another function has finished executing — hence the name ‘call back’. In Keras, callbacks are functions invoked after every epoch.\n",
    "\n",
    "Though there are a lot of pre-defined callbacks in Keras, and you can also define your own custom callback easily, we will be dicussing two popular callbacks for now:\n",
    "\n",
    "### 4.1 Tensorboard\n",
    "\n",
    "TensorBoard is a visualization tool provided with TensorFlow. With the help of Tensorboard, you can keep log of multiple training attributes, over multiple models, compare and visualize them as you will see soon."
   ]
  },
  {
   "cell_type": "code",
   "execution_count": 13,
   "metadata": {
    "colab": {},
    "colab_type": "code",
    "id": "BKvnVaOrEB3u"
   },
   "outputs": [],
   "source": [
    "import time\n",
    "from keras.callbacks import TensorBoard\n",
    "\n",
    "NAME = \"Base-{}\".format(int(time.time()))\n",
    "\n",
    "tensorboard = TensorBoard(log_dir='./logs/{}'.format(NAME))"
   ]
  },
  {
   "cell_type": "markdown",
   "metadata": {
    "colab_type": "text",
    "id": "GAxLiX33G9dq"
   },
   "source": [
    "### 4.2 EarlyStopping\n",
    "\n",
    "This callbback helps us to stop training when a monitored quantity has stopped improving. \n",
    "\n",
    "In our case we will be monitoring validation loss, so let's initialize the callback."
   ]
  },
  {
   "cell_type": "code",
   "execution_count": 14,
   "metadata": {
    "colab": {},
    "colab_type": "code",
    "id": "EsFotuAkGm__"
   },
   "outputs": [],
   "source": [
    "from keras.callbacks import EarlyStopping\n",
    "\n",
    "earlystop = EarlyStopping(monitor='val_loss', patience=0, mode='min')"
   ]
  },
  {
   "cell_type": "markdown",
   "metadata": {
    "colab_type": "text",
    "id": "R3OrMumBHwvE"
   },
   "source": [
    "## 5. Train your model\n",
    "\n",
    "Finally, after doing all this, let's train our model by passing the the features and target, and other parameters to the `fit` method."
   ]
  },
  {
   "cell_type": "code",
   "execution_count": 16,
   "metadata": {
    "colab": {
     "base_uri": "https://localhost:8080/",
     "height": 254
    },
    "colab_type": "code",
    "id": "vzPzt-KrHqyP",
    "outputId": "def20669-95d0-429d-ecde-9c401d76f838"
   },
   "outputs": [
    {
     "name": "stdout",
     "output_type": "stream",
     "text": [
      "Train on 54000 samples, validate on 6000 samples\n",
      "Epoch 1/10\n",
      "54000/54000 [==============================] - 2s 34us/step - loss: 0.0494 - acc: 0.9854 - val_loss: 0.0791 - val_acc: 0.9770\n",
      "Epoch 2/10\n",
      "54000/54000 [==============================] - 2s 35us/step - loss: 0.0422 - acc: 0.9877 - val_loss: 0.0783 - val_acc: 0.9775\n",
      "Epoch 3/10\n",
      "54000/54000 [==============================] - ETA: 0s - loss: 0.0374 - acc: 0.989 - 2s 35us/step - loss: 0.0375 - acc: 0.9892 - val_loss: 0.0767 - val_acc: 0.9765\n",
      "Epoch 4/10\n",
      "54000/54000 [==============================] - 2s 36us/step - loss: 0.0330 - acc: 0.9898 - val_loss: 0.0758 - val_acc: 0.9783\n",
      "Epoch 5/10\n",
      "54000/54000 [==============================] - 2s 36us/step - loss: 0.0286 - acc: 0.9919 - val_loss: 0.0746 - val_acc: 0.9787\n",
      "Epoch 6/10\n",
      "54000/54000 [==============================] - 2s 36us/step - loss: 0.0256 - acc: 0.9924 - val_loss: 0.0751 - val_acc: 0.9778\n"
     ]
    },
    {
     "data": {
      "text/plain": [
       "<keras.callbacks.History at 0x24b35e59f98>"
      ]
     },
     "execution_count": 16,
     "metadata": {},
     "output_type": "execute_result"
    }
   ],
   "source": [
    "model.fit(X_train, Y_train,\n",
    "          batch_size=128, epochs=10,\n",
    "          callbacks=[tensorboard, earlystop],\n",
    "          validation_split=0.1,\n",
    "          verbose=1)"
   ]
  },
  {
   "cell_type": "markdown",
   "metadata": {
    "colab_type": "text",
    "id": "7pPHgNLnLiA1"
   },
   "source": [
    "## 6. Evaluate the model\n",
    "\n",
    "Keras has an easy `evaluate` method to evaluate your model on test data."
   ]
  },
  {
   "cell_type": "code",
   "execution_count": 17,
   "metadata": {
    "colab": {
     "base_uri": "https://localhost:8080/",
     "height": 72
    },
    "colab_type": "code",
    "id": "_FfQEdWoKz0R",
    "outputId": "6032b29b-12bb-4f95-9230-4ac319e34ad9"
   },
   "outputs": [
    {
     "name": "stdout",
     "output_type": "stream",
     "text": [
      "10000/10000 [==============================] - 0s 29us/step\n",
      "Test score: 0.07186309540639632\n",
      "Test accuracy: 0.9775\n"
     ]
    }
   ],
   "source": [
    "score = model.evaluate(X_test, Y_test)\n",
    "print('Test score:', score[0])\n",
    "print('Test accuracy:', score[1])"
   ]
  },
  {
   "cell_type": "markdown",
   "metadata": {
    "colab_type": "text",
    "id": "Hjq0Zr2GSKST"
   },
   "source": [
    "## 7. Prediction and Sanity Check"
   ]
  },
  {
   "cell_type": "code",
   "execution_count": 18,
   "metadata": {
    "colab": {
     "base_uri": "https://localhost:8080/",
     "height": 205
    },
    "colab_type": "code",
    "id": "Csh6VCjRLwTR",
    "outputId": "a87d328b-c44c-470e-f2ad-f6eb5b6b9a2a"
   },
   "outputs": [
    {
     "data": {
      "image/png": "[encoded data removed]",
      "text/plain": [
       "<Figure size 432x648 with 2 Axes>"
      ]
     },
     "metadata": {
      "needs_background": "light"
     },
     "output_type": "display_data"
    }
   ],
   "source": [
    "img = X_test[0]\n",
    "ps = model.predict(img.reshape(-1,784))\n",
    "\n",
    "fig, (ax1, ax2) = plt.subplots(figsize=(6,9), ncols=2)\n",
    "ax1.imshow(img.reshape(28, 28))\n",
    "ax1.axis('off')\n",
    "ax2.barh(np.arange(10), ps[0])\n",
    "ax2.set_aspect(0.1)\n",
    "ax2.set_yticks(np.arange(10))\n",
    "ax2.set_yticklabels(np.arange(10))\n",
    "plt.show()"
   ]
  },
  {
   "cell_type": "markdown",
   "metadata": {
    "colab_type": "text",
    "id": "QJVgU62lUbVn"
   },
   "source": [
    "## Saving and Load Model\n",
    "\n",
    "You can easily save any model and its weights like this"
   ]
  },
  {
   "cell_type": "code",
   "execution_count": 19,
   "metadata": {
    "colab": {},
    "colab_type": "code",
    "id": "s-SWrSnWM0dS"
   },
   "outputs": [],
   "source": [
    "# Save Model\n",
    "model.save('mnist_model.h5')\n",
    "\n",
    "# Delete the Model\n",
    "del model\n",
    "\n",
    "# Load the Model Again\n",
    "from keras.models import load_model\n",
    "\n",
    "model = load_model('mnist_model.h5')"
   ]
  },
  {
   "cell_type": "code",
   "execution_count": 20,
   "metadata": {
    "colab": {
     "base_uri": "https://localhost:8080/",
     "height": 205
    },
    "colab_type": "code",
    "id": "6coeWgI1U8d0",
    "outputId": "c66ed789-6fc3-43fb-e9eb-d5e932126887"
   },
   "outputs": [
    {
     "data": {
      "image/png": "[encoded data removed]",
      "text/plain": [
       "<Figure size 432x648 with 2 Axes>"
      ]
     },
     "metadata": {
      "needs_background": "light"
     },
     "output_type": "display_data"
    }
   ],
   "source": [
    "img = X_test[-1]\n",
    "ps = model.predict(img.reshape(-1,784))\n",
    "\n",
    "fig, (ax1, ax2) = plt.subplots(figsize=(6,9), ncols=2)\n",
    "ax1.imshow(img.reshape(28, 28))\n",
    "ax1.axis('off')\n",
    "ax2.barh(np.arange(10), ps[0])\n",
    "ax2.set_aspect(0.1)\n",
    "ax2.set_yticks(np.arange(10))\n",
    "ax2.set_yticklabels(np.arange(10))\n",
    "plt.show()"
   ]
  },
  {
   "cell_type": "markdown",
   "metadata": {
    "colab_type": "text",
    "id": "-tzd_OQaVqyY"
   },
   "source": [
    "## Tensorboard Logs & Experimenting\n",
    "\n",
    "Tensorboard plots and visualization can be seen by runnig tensorboard through terminal:\n",
    "\n",
    "`tensorboard --logdir=/full_path_to_your_logs`\n",
    "\n",
    "Tensorboard plots are extremely helpful when you are testing out various model architectures, optimizers, loss functions, batch size, etc.\n",
    "\n",
    "Let's look at the effect of batch sizes on training. The batch size determines over how much data per step is used to compute the loss function, gradients, and back propagation. Large batch sizes allow the network to complete it's training faster; however, there are other factors beyond training speed to consider.\n",
    "\n",
    "Too large of a batch size smoothes the local minima of the loss function, causing the optimizer to settle in one because it thinks it found the global minimum.\n",
    "\n",
    "Too small of a batch size creates a very noisy loss function, and the optimizer may never find the global minimum.\n",
    "\n",
    "So a good batch size may take some trial and error to find, an ideal use of tensorboard.\n",
    "\n",
    "So let's wrap our model in a function since we will be calling it to train our model. Also, I removed early stopping to see what happens to our validation loss."
   ]
  },
  {
   "cell_type": "code",
   "execution_count": 22,
   "metadata": {
    "colab": {},
    "colab_type": "code",
    "id": "X8W5YIV6XWRH"
   },
   "outputs": [],
   "source": [
    "def run_model(name='unnamed', batch_size=128):\n",
    "\n",
    "    inputs = Input(shape=(784,))\n",
    "    x = Dense(128, activation='relu')(inputs)\n",
    "    x = Dense(64, activation='relu')(x)\n",
    "    predictions = Dense(10, activation='softmax')(x)\n",
    "    model = Model(inputs=inputs, outputs=predictions)\n",
    "\n",
    "    model.compile(optimizer='adam', loss='categorical_crossentropy', metrics=['accuracy'])\n",
    "\n",
    "    NAME = name+\"-{}\".format(int(time.time()))\n",
    "\n",
    "    tensorboard = TensorBoard(log_dir='./logs/{}'.format(NAME))\n",
    "\n",
    "    print('Running Model of Batch Size', batch_size)\n",
    "    model.fit(X_train, Y_train,\n",
    "          batch_size=batch_size, epochs=12,\n",
    "          callbacks=[tensorboard],\n",
    "          validation_split=0.1,\n",
    "          verbose=0)\n",
    "\n",
    "    score = model.evaluate(X_test, Y_test, verbose=0)\n",
    "    print('Test accuracy:', score[1])\n",
    "\n",
    "    return model"
   ]
  },
  {
   "cell_type": "markdown",
   "metadata": {
    "colab_type": "text",
    "id": "ecOUw6pAZu2m"
   },
   "source": [
    "All set, let's go and tryout different batch sizes and find which fits the best."
   ]
  },
  {
   "cell_type": "code",
   "execution_count": 23,
   "metadata": {
    "colab": {
     "base_uri": "https://localhost:8080/",
     "height": 3672
    },
    "colab_type": "code",
    "id": "UHZ3EtPAZ3ZB",
    "outputId": "987655c0-b7e2-41bc-d624-349dd542c272"
   },
   "outputs": [
    {
     "name": "stdout",
     "output_type": "stream",
     "text": [
      "Running Model of Batch Size 16\n",
      "Test accuracy: 0.9797\n",
      "1min 58s ± 0 ns per loop (mean ± std. dev. of 1 run, 1 loop each)\n",
      "\n",
      "\n",
      "Running Model of Batch Size 32\n",
      "Test accuracy: 0.9788\n",
      "1min 10s ± 0 ns per loop (mean ± std. dev. of 1 run, 1 loop each)\n",
      "\n",
      "\n",
      "Running Model of Batch Size 64\n",
      "Test accuracy: 0.9757\n",
      "38.5 s ± 0 ns per loop (mean ± std. dev. of 1 run, 1 loop each)\n",
      "\n",
      "\n",
      "Running Model of Batch Size 128\n",
      "Test accuracy: 0.9745\n",
      "24.6 s ± 0 ns per loop (mean ± std. dev. of 1 run, 1 loop each)\n",
      "\n",
      "\n",
      "Running Model of Batch Size 256\n",
      "Test accuracy: 0.9707\n",
      "18.1 s ± 0 ns per loop (mean ± std. dev. of 1 run, 1 loop each)\n",
      "\n",
      "\n",
      "Running Model of Batch Size 512\n",
      "Test accuracy: 0.966\n",
      "18.4 s ± 0 ns per loop (mean ± std. dev. of 1 run, 1 loop each)\n",
      "\n",
      "\n",
      "Running Model of Batch Size 1024\n",
      "Test accuracy: 0.954\n",
      "15.8 s ± 0 ns per loop (mean ± std. dev. of 1 run, 1 loop each)\n",
      "\n",
      "\n",
      "Running Model of Batch Size 2048\n",
      "Test accuracy: 0.9403\n",
      "15.4 s ± 0 ns per loop (mean ± std. dev. of 1 run, 1 loop each)\n",
      "\n",
      "\n"
     ]
    }
   ],
   "source": [
    "# Batch Size 16\n",
    "%timeit -n 1 -r 1 run_model(name='b16', batch_size=16)\n",
    "print('\\n')\n",
    "\n",
    "# Batch Size 32\n",
    "%timeit -n 1 -r 1 run_model(name='b32', batch_size=32)\n",
    "print('\\n')\n",
    "\n",
    "# Batch Size 64\n",
    "%timeit -n 1 -r 1 run_model(name='b64', batch_size=64)\n",
    "print('\\n')\n",
    "\n",
    "# Batch Size 128\n",
    "%timeit -n 1 -r 1 run_model(name='b128', batch_size=128)\n",
    "print('\\n')\n",
    "\n",
    "# Batch Size 256\n",
    "%timeit -n 1 -r 1 run_model(name='b256', batch_size=256)\n",
    "print('\\n')\n",
    "\n",
    "# Batch Size 512\n",
    "%timeit -n 1 -r 1 run_model(name='b512', batch_size=512)\n",
    "print('\\n')\n",
    "\n",
    "# Batch Size 1024\n",
    "%timeit -n 1 -r 1 run_model(name='b1024', batch_size=1024)\n",
    "print('\\n')\n",
    "\n",
    "# Batch Size 2048\n",
    "%timeit -n 1 -r 1 run_model(name='b2048', batch_size=2048)\n",
    "print('\\n')"
   ]
  },
  {
   "cell_type": "markdown",
   "metadata": {},
   "source": [
    "## Bonus: What if?!\n",
    "\n",
    "What if you don't want to preprocess the input using numpy, can we actually just make our model and get on with it?\n",
    "\n",
    "Definetely we can! As mentioned before Keras is meant for on-the-fly experimentation, and there are multiple layers that can handle simple preprocessing on the go, so there's hardly any need for preprocessing in this case. \n",
    "\n",
    "Let's reload our data, since we already pre-processed it.\n"
   ]
  },
  {
   "cell_type": "code",
   "execution_count": 20,
   "metadata": {},
   "outputs": [],
   "source": [
    "(X_train, y_train), (X_test, y_test) = mnist.load_data()"
   ]
  },
  {
   "cell_type": "markdown",
   "metadata": {},
   "source": [
    "Now, let's define our model with some Advanced Layers."
   ]
  },
  {
   "cell_type": "code",
   "execution_count": 21,
   "metadata": {},
   "outputs": [
    {
     "name": "stdout",
     "output_type": "stream",
     "text": [
      "_________________________________________________________________\n",
      "Layer (type)                 Output Shape              Param #   \n",
      "=================================================================\n",
      "input_2 (InputLayer)         (None, 28, 28)            0         \n",
      "_________________________________________________________________\n",
      "flatten_1 (Flatten)          (None, 784)               0         \n",
      "_________________________________________________________________\n",
      "lambda_1 (Lambda)            (None, 784)               0         \n",
      "=================================================================\n",
      "Total params: 0\n",
      "Trainable params: 0\n",
      "Non-trainable params: 0\n",
      "_________________________________________________________________\n"
     ]
    }
   ],
   "source": [
    "from keras.layers import Flatten, Lambda\n",
    "\n",
    "inputs = Input(shape=(28,28,))\n",
    "x = Flatten()(inputs)\n",
    "x = Lambda(lambda x: x/255)(x)\n",
    "out = x\n",
    "\n",
    "model = Model(inputs=inputs, outputs=out)\n",
    "\n",
    "model.summary()"
   ]
  },
  {
   "cell_type": "code",
   "execution_count": 118,
   "metadata": {
    "scrolled": true
   },
   "outputs": [
    {
     "data": {
      "text/html": [
       "<div>\n",
       "<style scoped>\n",
       "    .dataframe tbody tr th:only-of-type {\n",
       "        vertical-align: middle;\n",
       "    }\n",
       "\n",
       "    .dataframe tbody tr th {\n",
       "        vertical-align: top;\n",
       "    }\n",
       "\n",
       "    .dataframe thead th {\n",
       "        text-align: right;\n",
       "    }\n",
       "</style>\n",
       "<table border=\"1\" class=\"dataframe\">\n",
       "  <thead>\n",
       "    <tr style=\"text-align: right;\">\n",
       "      <th></th>\n",
       "      <th>0</th>\n",
       "      <th>1</th>\n",
       "      <th>2</th>\n",
       "      <th>3</th>\n",
       "      <th>4</th>\n",
       "      <th>5</th>\n",
       "      <th>6</th>\n",
       "      <th>7</th>\n",
       "      <th>8</th>\n",
       "      <th>9</th>\n",
       "      <th>...</th>\n",
       "      <th>18</th>\n",
       "      <th>19</th>\n",
       "      <th>20</th>\n",
       "      <th>21</th>\n",
       "      <th>22</th>\n",
       "      <th>23</th>\n",
       "      <th>24</th>\n",
       "      <th>25</th>\n",
       "      <th>26</th>\n",
       "      <th>27</th>\n",
       "    </tr>\n",
       "  </thead>\n",
       "  <tbody>\n",
       "    <tr>\n",
       "      <th>0</th>\n",
       "      <td>230</td>\n",
       "      <td>237</td>\n",
       "      <td>202</td>\n",
       "      <td>8</td>\n",
       "      <td>65</td>\n",
       "      <td>106</td>\n",
       "      <td>119</td>\n",
       "      <td>81</td>\n",
       "      <td>251</td>\n",
       "      <td>155</td>\n",
       "      <td>...</td>\n",
       "      <td>113</td>\n",
       "      <td>170</td>\n",
       "      <td>98</td>\n",
       "      <td>223</td>\n",
       "      <td>138</td>\n",
       "      <td>109</td>\n",
       "      <td>73</td>\n",
       "      <td>32</td>\n",
       "      <td>243</td>\n",
       "      <td>140</td>\n",
       "    </tr>\n",
       "    <tr>\n",
       "      <th>1</th>\n",
       "      <td>55</td>\n",
       "      <td>95</td>\n",
       "      <td>84</td>\n",
       "      <td>13</td>\n",
       "      <td>9</td>\n",
       "      <td>153</td>\n",
       "      <td>200</td>\n",
       "      <td>130</td>\n",
       "      <td>182</td>\n",
       "      <td>174</td>\n",
       "      <td>...</td>\n",
       "      <td>23</td>\n",
       "      <td>92</td>\n",
       "      <td>69</td>\n",
       "      <td>121</td>\n",
       "      <td>163</td>\n",
       "      <td>121</td>\n",
       "      <td>176</td>\n",
       "      <td>240</td>\n",
       "      <td>226</td>\n",
       "      <td>233</td>\n",
       "    </tr>\n",
       "    <tr>\n",
       "      <th>2</th>\n",
       "      <td>14</td>\n",
       "      <td>47</td>\n",
       "      <td>9</td>\n",
       "      <td>33</td>\n",
       "      <td>47</td>\n",
       "      <td>58</td>\n",
       "      <td>142</td>\n",
       "      <td>6</td>\n",
       "      <td>253</td>\n",
       "      <td>34</td>\n",
       "      <td>...</td>\n",
       "      <td>51</td>\n",
       "      <td>167</td>\n",
       "      <td>48</td>\n",
       "      <td>119</td>\n",
       "      <td>9</td>\n",
       "      <td>231</td>\n",
       "      <td>190</td>\n",
       "      <td>105</td>\n",
       "      <td>137</td>\n",
       "      <td>249</td>\n",
       "    </tr>\n",
       "    <tr>\n",
       "      <th>3</th>\n",
       "      <td>243</td>\n",
       "      <td>131</td>\n",
       "      <td>190</td>\n",
       "      <td>17</td>\n",
       "      <td>12</td>\n",
       "      <td>174</td>\n",
       "      <td>70</td>\n",
       "      <td>193</td>\n",
       "      <td>152</td>\n",
       "      <td>130</td>\n",
       "      <td>...</td>\n",
       "      <td>235</td>\n",
       "      <td>237</td>\n",
       "      <td>155</td>\n",
       "      <td>77</td>\n",
       "      <td>10</td>\n",
       "      <td>135</td>\n",
       "      <td>122</td>\n",
       "      <td>219</td>\n",
       "      <td>8</td>\n",
       "      <td>202</td>\n",
       "    </tr>\n",
       "    <tr>\n",
       "      <th>4</th>\n",
       "      <td>115</td>\n",
       "      <td>35</td>\n",
       "      <td>188</td>\n",
       "      <td>84</td>\n",
       "      <td>114</td>\n",
       "      <td>180</td>\n",
       "      <td>3</td>\n",
       "      <td>85</td>\n",
       "      <td>58</td>\n",
       "      <td>11</td>\n",
       "      <td>...</td>\n",
       "      <td>85</td>\n",
       "      <td>208</td>\n",
       "      <td>139</td>\n",
       "      <td>94</td>\n",
       "      <td>254</td>\n",
       "      <td>67</td>\n",
       "      <td>247</td>\n",
       "      <td>109</td>\n",
       "      <td>147</td>\n",
       "      <td>250</td>\n",
       "    </tr>\n",
       "    <tr>\n",
       "      <th>5</th>\n",
       "      <td>69</td>\n",
       "      <td>96</td>\n",
       "      <td>61</td>\n",
       "      <td>12</td>\n",
       "      <td>114</td>\n",
       "      <td>227</td>\n",
       "      <td>97</td>\n",
       "      <td>254</td>\n",
       "      <td>198</td>\n",
       "      <td>57</td>\n",
       "      <td>...</td>\n",
       "      <td>42</td>\n",
       "      <td>59</td>\n",
       "      <td>19</td>\n",
       "      <td>10</td>\n",
       "      <td>253</td>\n",
       "      <td>244</td>\n",
       "      <td>3</td>\n",
       "      <td>218</td>\n",
       "      <td>191</td>\n",
       "      <td>215</td>\n",
       "    </tr>\n",
       "    <tr>\n",
       "      <th>6</th>\n",
       "      <td>250</td>\n",
       "      <td>32</td>\n",
       "      <td>30</td>\n",
       "      <td>54</td>\n",
       "      <td>17</td>\n",
       "      <td>155</td>\n",
       "      <td>238</td>\n",
       "      <td>8</td>\n",
       "      <td>188</td>\n",
       "      <td>220</td>\n",
       "      <td>...</td>\n",
       "      <td>64</td>\n",
       "      <td>234</td>\n",
       "      <td>49</td>\n",
       "      <td>141</td>\n",
       "      <td>167</td>\n",
       "      <td>54</td>\n",
       "      <td>207</td>\n",
       "      <td>193</td>\n",
       "      <td>204</td>\n",
       "      <td>5</td>\n",
       "    </tr>\n",
       "    <tr>\n",
       "      <th>7</th>\n",
       "      <td>67</td>\n",
       "      <td>52</td>\n",
       "      <td>230</td>\n",
       "      <td>58</td>\n",
       "      <td>8</td>\n",
       "      <td>196</td>\n",
       "      <td>124</td>\n",
       "      <td>175</td>\n",
       "      <td>135</td>\n",
       "      <td>116</td>\n",
       "      <td>...</td>\n",
       "      <td>37</td>\n",
       "      <td>71</td>\n",
       "      <td>61</td>\n",
       "      <td>46</td>\n",
       "      <td>233</td>\n",
       "      <td>97</td>\n",
       "      <td>10</td>\n",
       "      <td>6</td>\n",
       "      <td>160</td>\n",
       "      <td>74</td>\n",
       "    </tr>\n",
       "    <tr>\n",
       "      <th>8</th>\n",
       "      <td>209</td>\n",
       "      <td>119</td>\n",
       "      <td>250</td>\n",
       "      <td>102</td>\n",
       "      <td>115</td>\n",
       "      <td>215</td>\n",
       "      <td>150</td>\n",
       "      <td>71</td>\n",
       "      <td>198</td>\n",
       "      <td>227</td>\n",
       "      <td>...</td>\n",
       "      <td>179</td>\n",
       "      <td>157</td>\n",
       "      <td>158</td>\n",
       "      <td>188</td>\n",
       "      <td>193</td>\n",
       "      <td>227</td>\n",
       "      <td>197</td>\n",
       "      <td>85</td>\n",
       "      <td>101</td>\n",
       "      <td>235</td>\n",
       "    </tr>\n",
       "    <tr>\n",
       "      <th>9</th>\n",
       "      <td>95</td>\n",
       "      <td>233</td>\n",
       "      <td>183</td>\n",
       "      <td>252</td>\n",
       "      <td>88</td>\n",
       "      <td>27</td>\n",
       "      <td>250</td>\n",
       "      <td>69</td>\n",
       "      <td>21</td>\n",
       "      <td>126</td>\n",
       "      <td>...</td>\n",
       "      <td>181</td>\n",
       "      <td>124</td>\n",
       "      <td>48</td>\n",
       "      <td>82</td>\n",
       "      <td>251</td>\n",
       "      <td>51</td>\n",
       "      <td>227</td>\n",
       "      <td>118</td>\n",
       "      <td>104</td>\n",
       "      <td>125</td>\n",
       "    </tr>\n",
       "    <tr>\n",
       "      <th>10</th>\n",
       "      <td>88</td>\n",
       "      <td>240</td>\n",
       "      <td>145</td>\n",
       "      <td>127</td>\n",
       "      <td>180</td>\n",
       "      <td>131</td>\n",
       "      <td>87</td>\n",
       "      <td>106</td>\n",
       "      <td>154</td>\n",
       "      <td>74</td>\n",
       "      <td>...</td>\n",
       "      <td>8</td>\n",
       "      <td>252</td>\n",
       "      <td>209</td>\n",
       "      <td>86</td>\n",
       "      <td>98</td>\n",
       "      <td>246</td>\n",
       "      <td>161</td>\n",
       "      <td>209</td>\n",
       "      <td>32</td>\n",
       "      <td>175</td>\n",
       "    </tr>\n",
       "    <tr>\n",
       "      <th>11</th>\n",
       "      <td>227</td>\n",
       "      <td>1</td>\n",
       "      <td>120</td>\n",
       "      <td>4</td>\n",
       "      <td>93</td>\n",
       "      <td>44</td>\n",
       "      <td>194</td>\n",
       "      <td>190</td>\n",
       "      <td>60</td>\n",
       "      <td>167</td>\n",
       "      <td>...</td>\n",
       "      <td>87</td>\n",
       "      <td>182</td>\n",
       "      <td>176</td>\n",
       "      <td>114</td>\n",
       "      <td>56</td>\n",
       "      <td>78</td>\n",
       "      <td>15</td>\n",
       "      <td>45</td>\n",
       "      <td>29</td>\n",
       "      <td>145</td>\n",
       "    </tr>\n",
       "    <tr>\n",
       "      <th>12</th>\n",
       "      <td>248</td>\n",
       "      <td>214</td>\n",
       "      <td>56</td>\n",
       "      <td>21</td>\n",
       "      <td>196</td>\n",
       "      <td>62</td>\n",
       "      <td>127</td>\n",
       "      <td>116</td>\n",
       "      <td>141</td>\n",
       "      <td>42</td>\n",
       "      <td>...</td>\n",
       "      <td>226</td>\n",
       "      <td>71</td>\n",
       "      <td>206</td>\n",
       "      <td>51</td>\n",
       "      <td>48</td>\n",
       "      <td>105</td>\n",
       "      <td>249</td>\n",
       "      <td>99</td>\n",
       "      <td>196</td>\n",
       "      <td>22</td>\n",
       "    </tr>\n",
       "    <tr>\n",
       "      <th>13</th>\n",
       "      <td>236</td>\n",
       "      <td>41</td>\n",
       "      <td>60</td>\n",
       "      <td>121</td>\n",
       "      <td>25</td>\n",
       "      <td>96</td>\n",
       "      <td>139</td>\n",
       "      <td>214</td>\n",
       "      <td>142</td>\n",
       "      <td>62</td>\n",
       "      <td>...</td>\n",
       "      <td>190</td>\n",
       "      <td>92</td>\n",
       "      <td>15</td>\n",
       "      <td>210</td>\n",
       "      <td>121</td>\n",
       "      <td>130</td>\n",
       "      <td>158</td>\n",
       "      <td>128</td>\n",
       "      <td>174</td>\n",
       "      <td>252</td>\n",
       "    </tr>\n",
       "    <tr>\n",
       "      <th>14</th>\n",
       "      <td>154</td>\n",
       "      <td>163</td>\n",
       "      <td>221</td>\n",
       "      <td>137</td>\n",
       "      <td>61</td>\n",
       "      <td>190</td>\n",
       "      <td>42</td>\n",
       "      <td>183</td>\n",
       "      <td>39</td>\n",
       "      <td>62</td>\n",
       "      <td>...</td>\n",
       "      <td>38</td>\n",
       "      <td>79</td>\n",
       "      <td>107</td>\n",
       "      <td>226</td>\n",
       "      <td>165</td>\n",
       "      <td>206</td>\n",
       "      <td>217</td>\n",
       "      <td>137</td>\n",
       "      <td>163</td>\n",
       "      <td>157</td>\n",
       "    </tr>\n",
       "    <tr>\n",
       "      <th>15</th>\n",
       "      <td>66</td>\n",
       "      <td>34</td>\n",
       "      <td>184</td>\n",
       "      <td>20</td>\n",
       "      <td>82</td>\n",
       "      <td>92</td>\n",
       "      <td>113</td>\n",
       "      <td>203</td>\n",
       "      <td>86</td>\n",
       "      <td>120</td>\n",
       "      <td>...</td>\n",
       "      <td>201</td>\n",
       "      <td>85</td>\n",
       "      <td>26</td>\n",
       "      <td>108</td>\n",
       "      <td>51</td>\n",
       "      <td>192</td>\n",
       "      <td>36</td>\n",
       "      <td>115</td>\n",
       "      <td>46</td>\n",
       "      <td>191</td>\n",
       "    </tr>\n",
       "    <tr>\n",
       "      <th>16</th>\n",
       "      <td>190</td>\n",
       "      <td>28</td>\n",
       "      <td>25</td>\n",
       "      <td>144</td>\n",
       "      <td>183</td>\n",
       "      <td>5</td>\n",
       "      <td>232</td>\n",
       "      <td>111</td>\n",
       "      <td>140</td>\n",
       "      <td>123</td>\n",
       "      <td>...</td>\n",
       "      <td>162</td>\n",
       "      <td>32</td>\n",
       "      <td>183</td>\n",
       "      <td>181</td>\n",
       "      <td>165</td>\n",
       "      <td>86</td>\n",
       "      <td>104</td>\n",
       "      <td>89</td>\n",
       "      <td>135</td>\n",
       "      <td>83</td>\n",
       "    </tr>\n",
       "    <tr>\n",
       "      <th>17</th>\n",
       "      <td>128</td>\n",
       "      <td>55</td>\n",
       "      <td>161</td>\n",
       "      <td>51</td>\n",
       "      <td>82</td>\n",
       "      <td>183</td>\n",
       "      <td>129</td>\n",
       "      <td>36</td>\n",
       "      <td>194</td>\n",
       "      <td>139</td>\n",
       "      <td>...</td>\n",
       "      <td>127</td>\n",
       "      <td>245</td>\n",
       "      <td>42</td>\n",
       "      <td>164</td>\n",
       "      <td>247</td>\n",
       "      <td>57</td>\n",
       "      <td>155</td>\n",
       "      <td>178</td>\n",
       "      <td>102</td>\n",
       "      <td>27</td>\n",
       "    </tr>\n",
       "    <tr>\n",
       "      <th>18</th>\n",
       "      <td>188</td>\n",
       "      <td>153</td>\n",
       "      <td>10</td>\n",
       "      <td>197</td>\n",
       "      <td>43</td>\n",
       "      <td>76</td>\n",
       "      <td>83</td>\n",
       "      <td>142</td>\n",
       "      <td>180</td>\n",
       "      <td>160</td>\n",
       "      <td>...</td>\n",
       "      <td>96</td>\n",
       "      <td>232</td>\n",
       "      <td>205</td>\n",
       "      <td>127</td>\n",
       "      <td>66</td>\n",
       "      <td>246</td>\n",
       "      <td>96</td>\n",
       "      <td>68</td>\n",
       "      <td>3</td>\n",
       "      <td>195</td>\n",
       "    </tr>\n",
       "    <tr>\n",
       "      <th>19</th>\n",
       "      <td>223</td>\n",
       "      <td>7</td>\n",
       "      <td>176</td>\n",
       "      <td>21</td>\n",
       "      <td>22</td>\n",
       "      <td>74</td>\n",
       "      <td>219</td>\n",
       "      <td>18</td>\n",
       "      <td>245</td>\n",
       "      <td>169</td>\n",
       "      <td>...</td>\n",
       "      <td>152</td>\n",
       "      <td>201</td>\n",
       "      <td>157</td>\n",
       "      <td>206</td>\n",
       "      <td>11</td>\n",
       "      <td>24</td>\n",
       "      <td>53</td>\n",
       "      <td>44</td>\n",
       "      <td>111</td>\n",
       "      <td>162</td>\n",
       "    </tr>\n",
       "    <tr>\n",
       "      <th>20</th>\n",
       "      <td>180</td>\n",
       "      <td>180</td>\n",
       "      <td>139</td>\n",
       "      <td>4</td>\n",
       "      <td>21</td>\n",
       "      <td>99</td>\n",
       "      <td>46</td>\n",
       "      <td>134</td>\n",
       "      <td>157</td>\n",
       "      <td>71</td>\n",
       "      <td>...</td>\n",
       "      <td>42</td>\n",
       "      <td>40</td>\n",
       "      <td>17</td>\n",
       "      <td>37</td>\n",
       "      <td>202</td>\n",
       "      <td>118</td>\n",
       "      <td>44</td>\n",
       "      <td>155</td>\n",
       "      <td>199</td>\n",
       "      <td>253</td>\n",
       "    </tr>\n",
       "    <tr>\n",
       "      <th>21</th>\n",
       "      <td>228</td>\n",
       "      <td>84</td>\n",
       "      <td>68</td>\n",
       "      <td>72</td>\n",
       "      <td>250</td>\n",
       "      <td>146</td>\n",
       "      <td>145</td>\n",
       "      <td>246</td>\n",
       "      <td>214</td>\n",
       "      <td>52</td>\n",
       "      <td>...</td>\n",
       "      <td>31</td>\n",
       "      <td>38</td>\n",
       "      <td>169</td>\n",
       "      <td>80</td>\n",
       "      <td>18</td>\n",
       "      <td>249</td>\n",
       "      <td>13</td>\n",
       "      <td>126</td>\n",
       "      <td>89</td>\n",
       "      <td>188</td>\n",
       "    </tr>\n",
       "    <tr>\n",
       "      <th>22</th>\n",
       "      <td>46</td>\n",
       "      <td>159</td>\n",
       "      <td>131</td>\n",
       "      <td>232</td>\n",
       "      <td>209</td>\n",
       "      <td>227</td>\n",
       "      <td>148</td>\n",
       "      <td>249</td>\n",
       "      <td>55</td>\n",
       "      <td>0</td>\n",
       "      <td>...</td>\n",
       "      <td>214</td>\n",
       "      <td>139</td>\n",
       "      <td>148</td>\n",
       "      <td>126</td>\n",
       "      <td>161</td>\n",
       "      <td>166</td>\n",
       "      <td>116</td>\n",
       "      <td>226</td>\n",
       "      <td>63</td>\n",
       "      <td>15</td>\n",
       "    </tr>\n",
       "    <tr>\n",
       "      <th>23</th>\n",
       "      <td>153</td>\n",
       "      <td>164</td>\n",
       "      <td>178</td>\n",
       "      <td>91</td>\n",
       "      <td>132</td>\n",
       "      <td>231</td>\n",
       "      <td>160</td>\n",
       "      <td>125</td>\n",
       "      <td>120</td>\n",
       "      <td>67</td>\n",
       "      <td>...</td>\n",
       "      <td>104</td>\n",
       "      <td>147</td>\n",
       "      <td>35</td>\n",
       "      <td>162</td>\n",
       "      <td>195</td>\n",
       "      <td>201</td>\n",
       "      <td>18</td>\n",
       "      <td>192</td>\n",
       "      <td>73</td>\n",
       "      <td>187</td>\n",
       "    </tr>\n",
       "    <tr>\n",
       "      <th>24</th>\n",
       "      <td>26</td>\n",
       "      <td>202</td>\n",
       "      <td>27</td>\n",
       "      <td>183</td>\n",
       "      <td>61</td>\n",
       "      <td>5</td>\n",
       "      <td>103</td>\n",
       "      <td>69</td>\n",
       "      <td>67</td>\n",
       "      <td>203</td>\n",
       "      <td>...</td>\n",
       "      <td>103</td>\n",
       "      <td>31</td>\n",
       "      <td>230</td>\n",
       "      <td>143</td>\n",
       "      <td>177</td>\n",
       "      <td>53</td>\n",
       "      <td>83</td>\n",
       "      <td>196</td>\n",
       "      <td>57</td>\n",
       "      <td>195</td>\n",
       "    </tr>\n",
       "    <tr>\n",
       "      <th>25</th>\n",
       "      <td>96</td>\n",
       "      <td>92</td>\n",
       "      <td>44</td>\n",
       "      <td>59</td>\n",
       "      <td>196</td>\n",
       "      <td>144</td>\n",
       "      <td>65</td>\n",
       "      <td>178</td>\n",
       "      <td>51</td>\n",
       "      <td>18</td>\n",
       "      <td>...</td>\n",
       "      <td>56</td>\n",
       "      <td>50</td>\n",
       "      <td>56</td>\n",
       "      <td>210</td>\n",
       "      <td>227</td>\n",
       "      <td>59</td>\n",
       "      <td>224</td>\n",
       "      <td>213</td>\n",
       "      <td>234</td>\n",
       "      <td>21</td>\n",
       "    </tr>\n",
       "    <tr>\n",
       "      <th>26</th>\n",
       "      <td>5</td>\n",
       "      <td>26</td>\n",
       "      <td>152</td>\n",
       "      <td>102</td>\n",
       "      <td>47</td>\n",
       "      <td>55</td>\n",
       "      <td>223</td>\n",
       "      <td>59</td>\n",
       "      <td>125</td>\n",
       "      <td>227</td>\n",
       "      <td>...</td>\n",
       "      <td>135</td>\n",
       "      <td>170</td>\n",
       "      <td>200</td>\n",
       "      <td>87</td>\n",
       "      <td>7</td>\n",
       "      <td>132</td>\n",
       "      <td>201</td>\n",
       "      <td>86</td>\n",
       "      <td>240</td>\n",
       "      <td>244</td>\n",
       "    </tr>\n",
       "    <tr>\n",
       "      <th>27</th>\n",
       "      <td>28</td>\n",
       "      <td>89</td>\n",
       "      <td>194</td>\n",
       "      <td>23</td>\n",
       "      <td>123</td>\n",
       "      <td>141</td>\n",
       "      <td>250</td>\n",
       "      <td>72</td>\n",
       "      <td>74</td>\n",
       "      <td>138</td>\n",
       "      <td>...</td>\n",
       "      <td>24</td>\n",
       "      <td>240</td>\n",
       "      <td>108</td>\n",
       "      <td>210</td>\n",
       "      <td>97</td>\n",
       "      <td>180</td>\n",
       "      <td>199</td>\n",
       "      <td>98</td>\n",
       "      <td>200</td>\n",
       "      <td>223</td>\n",
       "    </tr>\n",
       "  </tbody>\n",
       "</table>\n",
       "<p>28 rows × 28 columns</p>\n",
       "</div>"
      ],
      "text/plain": [
       "     0    1    2    3    4    5    6    7    8    9  ...    18   19   20   21  \\\n",
       "0   230  237  202    8   65  106  119   81  251  155 ...   113  170   98  223   \n",
       "1    55   95   84   13    9  153  200  130  182  174 ...    23   92   69  121   \n",
       "2    14   47    9   33   47   58  142    6  253   34 ...    51  167   48  119   \n",
       "3   243  131  190   17   12  174   70  193  152  130 ...   235  237  155   77   \n",
       "4   115   35  188   84  114  180    3   85   58   11 ...    85  208  139   94   \n",
       "5    69   96   61   12  114  227   97  254  198   57 ...    42   59   19   10   \n",
       "6   250   32   30   54   17  155  238    8  188  220 ...    64  234   49  141   \n",
       "7    67   52  230   58    8  196  124  175  135  116 ...    37   71   61   46   \n",
       "8   209  119  250  102  115  215  150   71  198  227 ...   179  157  158  188   \n",
       "9    95  233  183  252   88   27  250   69   21  126 ...   181  124   48   82   \n",
       "10   88  240  145  127  180  131   87  106  154   74 ...     8  252  209   86   \n",
       "11  227    1  120    4   93   44  194  190   60  167 ...    87  182  176  114   \n",
       "12  248  214   56   21  196   62  127  116  141   42 ...   226   71  206   51   \n",
       "13  236   41   60  121   25   96  139  214  142   62 ...   190   92   15  210   \n",
       "14  154  163  221  137   61  190   42  183   39   62 ...    38   79  107  226   \n",
       "15   66   34  184   20   82   92  113  203   86  120 ...   201   85   26  108   \n",
       "16  190   28   25  144  183    5  232  111  140  123 ...   162   32  183  181   \n",
       "17  128   55  161   51   82  183  129   36  194  139 ...   127  245   42  164   \n",
       "18  188  153   10  197   43   76   83  142  180  160 ...    96  232  205  127   \n",
       "19  223    7  176   21   22   74  219   18  245  169 ...   152  201  157  206   \n",
       "20  180  180  139    4   21   99   46  134  157   71 ...    42   40   17   37   \n",
       "21  228   84   68   72  250  146  145  246  214   52 ...    31   38  169   80   \n",
       "22   46  159  131  232  209  227  148  249   55    0 ...   214  139  148  126   \n",
       "23  153  164  178   91  132  231  160  125  120   67 ...   104  147   35  162   \n",
       "24   26  202   27  183   61    5  103   69   67  203 ...   103   31  230  143   \n",
       "25   96   92   44   59  196  144   65  178   51   18 ...    56   50   56  210   \n",
       "26    5   26  152  102   47   55  223   59  125  227 ...   135  170  200   87   \n",
       "27   28   89  194   23  123  141  250   72   74  138 ...    24  240  108  210   \n",
       "\n",
       "     22   23   24   25   26   27  \n",
       "0   138  109   73   32  243  140  \n",
       "1   163  121  176  240  226  233  \n",
       "2     9  231  190  105  137  249  \n",
       "3    10  135  122  219    8  202  \n",
       "4   254   67  247  109  147  250  \n",
       "5   253  244    3  218  191  215  \n",
       "6   167   54  207  193  204    5  \n",
       "7   233   97   10    6  160   74  \n",
       "8   193  227  197   85  101  235  \n",
       "9   251   51  227  118  104  125  \n",
       "10   98  246  161  209   32  175  \n",
       "11   56   78   15   45   29  145  \n",
       "12   48  105  249   99  196   22  \n",
       "13  121  130  158  128  174  252  \n",
       "14  165  206  217  137  163  157  \n",
       "15   51  192   36  115   46  191  \n",
       "16  165   86  104   89  135   83  \n",
       "17  247   57  155  178  102   27  \n",
       "18   66  246   96   68    3  195  \n",
       "19   11   24   53   44  111  162  \n",
       "20  202  118   44  155  199  253  \n",
       "21   18  249   13  126   89  188  \n",
       "22  161  166  116  226   63   15  \n",
       "23  195  201   18  192   73  187  \n",
       "24  177   53   83  196   57  195  \n",
       "25  227   59  224  213  234   21  \n",
       "26    7  132  201   86  240  244  \n",
       "27   97  180  199   98  200  223  \n",
       "\n",
       "[28 rows x 28 columns]"
      ]
     },
     "execution_count": 118,
     "metadata": {},
     "output_type": "execute_result"
    }
   ],
   "source": [
    "some = np.random.randint(255, size=(1,28,28))\n",
    "pd.DataFrame(some[0])"
   ]
  },
  {
   "cell_type": "code",
   "execution_count": 57,
   "metadata": {},
   "outputs": [
    {
     "data": {
      "text/html": [
       "<div>\n",
       "<style scoped>\n",
       "    .dataframe tbody tr th:only-of-type {\n",
       "        vertical-align: middle;\n",
       "    }\n",
       "\n",
       "    .dataframe tbody tr th {\n",
       "        vertical-align: top;\n",
       "    }\n",
       "\n",
       "    .dataframe thead th {\n",
       "        text-align: right;\n",
       "    }\n",
       "</style>\n",
       "<table border=\"1\" class=\"dataframe\">\n",
       "  <thead>\n",
       "    <tr style=\"text-align: right;\">\n",
       "      <th></th>\n",
       "      <th>0</th>\n",
       "      <th>1</th>\n",
       "      <th>2</th>\n",
       "      <th>3</th>\n",
       "      <th>4</th>\n",
       "      <th>5</th>\n",
       "      <th>6</th>\n",
       "      <th>7</th>\n",
       "      <th>8</th>\n",
       "      <th>9</th>\n",
       "      <th>...</th>\n",
       "      <th>774</th>\n",
       "      <th>775</th>\n",
       "      <th>776</th>\n",
       "      <th>777</th>\n",
       "      <th>778</th>\n",
       "      <th>779</th>\n",
       "      <th>780</th>\n",
       "      <th>781</th>\n",
       "      <th>782</th>\n",
       "      <th>783</th>\n",
       "    </tr>\n",
       "  </thead>\n",
       "  <tbody>\n",
       "    <tr>\n",
       "      <th>0</th>\n",
       "      <td>0.090196</td>\n",
       "      <td>0.388235</td>\n",
       "      <td>0.439216</td>\n",
       "      <td>0.827451</td>\n",
       "      <td>0.219608</td>\n",
       "      <td>0.890196</td>\n",
       "      <td>0.733333</td>\n",
       "      <td>0.298039</td>\n",
       "      <td>0.043137</td>\n",
       "      <td>0.423529</td>\n",
       "      <td>...</td>\n",
       "      <td>0.741176</td>\n",
       "      <td>0.270588</td>\n",
       "      <td>0.309804</td>\n",
       "      <td>0.901961</td>\n",
       "      <td>0.878431</td>\n",
       "      <td>0.592157</td>\n",
       "      <td>0.552941</td>\n",
       "      <td>0.388235</td>\n",
       "      <td>0.023529</td>\n",
       "      <td>0.858824</td>\n",
       "    </tr>\n",
       "  </tbody>\n",
       "</table>\n",
       "<p>1 rows × 784 columns</p>\n",
       "</div>"
      ],
      "text/plain": [
       "        0         1         2         3         4         5         6    \\\n",
       "0  0.090196  0.388235  0.439216  0.827451  0.219608  0.890196  0.733333   \n",
       "\n",
       "        7         8         9      ...          774       775       776  \\\n",
       "0  0.298039  0.043137  0.423529    ...     0.741176  0.270588  0.309804   \n",
       "\n",
       "        777       778       779       780       781       782       783  \n",
       "0  0.901961  0.878431  0.592157  0.552941  0.388235  0.023529  0.858824  \n",
       "\n",
       "[1 rows x 784 columns]"
      ]
     },
     "execution_count": 57,
     "metadata": {},
     "output_type": "execute_result"
    }
   ],
   "source": [
    "pred = model.predict(some)\n",
    "pd.DataFrame(pred)"
   ]
  },
  {
   "cell_type": "code",
   "execution_count": 55,
   "metadata": {},
   "outputs": [
    {
     "name": "stdout",
     "output_type": "stream",
     "text": [
      "Running Custom Model\n",
      "Train on 54000 samples, validate on 6000 samples\n",
      "Epoch 1/100\n",
      "54000/54000 [==============================] - 3s 47us/step - loss: 20.7977 - acc: 0.1161 - val_loss: 10.6606 - val_acc: 0.1960\n",
      "Epoch 2/100\n",
      "54000/54000 [==============================] - 2s 41us/step - loss: 7.1819 - acc: 0.2584 - val_loss: 4.0817 - val_acc: 0.2900\n",
      "Epoch 3/100\n",
      "54000/54000 [==============================] - 2s 42us/step - loss: 3.0138 - acc: 0.3393 - val_loss: 2.0448 - val_acc: 0.3662\n",
      "Epoch 4/100\n",
      "54000/54000 [==============================] - 2s 41us/step - loss: 1.5494 - acc: 0.4626 - val_loss: 0.9919 - val_acc: 0.6270\n",
      "Epoch 5/100\n",
      "54000/54000 [==============================] - 2s 43us/step - loss: 0.8538 - acc: 0.6521 - val_loss: 0.6693 - val_acc: 0.6765\n",
      "Epoch 6/100\n",
      "54000/54000 [==============================] - 2s 43us/step - loss: 0.6090 - acc: 0.6905 - val_loss: 0.5707 - val_acc: 0.7160\n",
      "Epoch 7/100\n",
      "54000/54000 [==============================] - 2s 44us/step - loss: 0.4897 - acc: 0.7307 - val_loss: 0.5027 - val_acc: 0.7555\n",
      "Epoch 8/100\n",
      "54000/54000 [==============================] - 2s 42us/step - loss: 0.3704 - acc: 0.7756 - val_loss: 0.4403 - val_acc: 0.7745\n",
      "Epoch 9/100\n",
      "54000/54000 [==============================] - 2s 44us/step - loss: 0.2982 - acc: 0.8122 - val_loss: 0.3883 - val_acc: 0.8327\n",
      "Epoch 10/100\n",
      "54000/54000 [==============================] - 2s 42us/step - loss: 0.2453 - acc: 0.8557 - val_loss: 0.3760 - val_acc: 0.8617\n",
      "Epoch 11/100\n",
      "54000/54000 [==============================] - 2s 43us/step - loss: 0.2069 - acc: 0.8810 - val_loss: 0.3536 - val_acc: 0.8832\n",
      "Epoch 12/100\n",
      "54000/54000 [==============================] - 2s 42us/step - loss: 0.1779 - acc: 0.9006 - val_loss: 0.3233 - val_acc: 0.8958\n",
      "Epoch 13/100\n",
      "54000/54000 [==============================] - 2s 42us/step - loss: 0.1496 - acc: 0.9153 - val_loss: 0.2919 - val_acc: 0.9138\n",
      "Epoch 14/100\n",
      "54000/54000 [==============================] - 2s 44us/step - loss: 0.1270 - acc: 0.9253 - val_loss: 0.3114 - val_acc: 0.9138\n",
      "Epoch 15/100\n",
      "54000/54000 [==============================] - 2s 43us/step - loss: 0.1105 - acc: 0.9347 - val_loss: 0.3143 - val_acc: 0.9200\n",
      "Epoch 16/100\n",
      "54000/54000 [==============================] - 2s 43us/step - loss: 0.0981 - acc: 0.9407 - val_loss: 0.3192 - val_acc: 0.9203\n",
      "Epoch 17/100\n",
      "54000/54000 [==============================] - 2s 43us/step - loss: 0.0848 - acc: 0.9488 - val_loss: 0.3529 - val_acc: 0.9197\n",
      "Epoch 18/100\n",
      "54000/54000 [==============================] - 2s 44us/step - loss: 0.0770 - acc: 0.9534 - val_loss: 0.3062 - val_acc: 0.9208\n",
      "Epoch 19/100\n",
      "54000/54000 [==============================] - 2s 43us/step - loss: 0.0689 - acc: 0.9577 - val_loss: 0.3022 - val_acc: 0.9352\n",
      "Epoch 20/100\n",
      "54000/54000 [==============================] - 2s 44us/step - loss: 0.0622 - acc: 0.9624 - val_loss: 0.3090 - val_acc: 0.9375\n",
      "Epoch 21/100\n",
      "54000/54000 [==============================] - 2s 44us/step - loss: 0.0564 - acc: 0.9655 - val_loss: 0.3095 - val_acc: 0.9400\n",
      "Epoch 22/100\n",
      "54000/54000 [==============================] - 3s 52us/step - loss: 0.0512 - acc: 0.9695 - val_loss: 0.3080 - val_acc: 0.9408\n",
      "Epoch 23/100\n",
      "54000/54000 [==============================] - 3s 53us/step - loss: 0.0475 - acc: 0.9725 - val_loss: 0.3194 - val_acc: 0.9413\n",
      "Epoch 24/100\n",
      "54000/54000 [==============================] - 2s 46us/step - loss: 0.0425 - acc: 0.9748 - val_loss: 0.3090 - val_acc: 0.9397\n",
      "Epoch 25/100\n",
      "54000/54000 [==============================] - 2s 38us/step - loss: 0.0406 - acc: 0.9766 - val_loss: 0.3250 - val_acc: 0.9407\n",
      "Epoch 26/100\n",
      "54000/54000 [==============================] - 2s 37us/step - loss: 0.0383 - acc: 0.9783 - val_loss: 0.3039 - val_acc: 0.9457\n",
      "Epoch 27/100\n",
      "54000/54000 [==============================] - 2s 38us/step - loss: 0.0348 - acc: 0.9809 - val_loss: 0.2925 - val_acc: 0.9470\n",
      "Epoch 28/100\n",
      "54000/54000 [==============================] - 3s 57us/step - loss: 0.0338 - acc: 0.9824 - val_loss: 0.3245 - val_acc: 0.9455\n",
      "Epoch 29/100\n",
      "54000/54000 [==============================] - 2s 41us/step - loss: 0.0318 - acc: 0.9831 - val_loss: 0.3394 - val_acc: 0.9508: \n",
      "Epoch 30/100\n",
      "54000/54000 [==============================] - 3s 54us/step - loss: 0.0299 - acc: 0.9849 - val_loss: 0.2931 - val_acc: 0.9470\n",
      "Epoch 31/100\n",
      "54000/54000 [==============================] - 3s 49us/step - loss: 0.0273 - acc: 0.9860 - val_loss: 0.3111 - val_acc: 0.9512\n",
      "Epoch 32/100\n",
      "54000/54000 [==============================] - 2s 40us/step - loss: 0.0277 - acc: 0.9872 - val_loss: 0.2969 - val_acc: 0.9502\n",
      "Epoch 33/100\n",
      "54000/54000 [==============================] - 2s 37us/step - loss: 0.0256 - acc: 0.9876 - val_loss: 0.3045 - val_acc: 0.9498\n",
      "Epoch 34/100\n",
      "54000/54000 [==============================] - 2s 38us/step - loss: 0.0247 - acc: 0.9879 - val_loss: 0.3102 - val_acc: 0.9527\n",
      "Epoch 35/100\n",
      "54000/54000 [==============================] - 2s 42us/step - loss: 0.0227 - acc: 0.9889 - val_loss: 0.3108 - val_acc: 0.9502\n",
      "Epoch 36/100\n",
      "54000/54000 [==============================] - 3s 58us/step - loss: 0.0223 - acc: 0.9896 - val_loss: 0.3112 - val_acc: 0.9522\n",
      "Epoch 37/100\n",
      "54000/54000 [==============================] - 2s 42us/step - loss: 0.0219 - acc: 0.9904 - val_loss: 0.3090 - val_acc: 0.9497\n",
      "Epoch 38/100\n",
      "54000/54000 [==============================] - 2s 34us/step - loss: 0.0213 - acc: 0.9907 - val_loss: 0.3092 - val_acc: 0.9518\n",
      "Epoch 39/100\n",
      "54000/54000 [==============================] - 2s 35us/step - loss: 0.0204 - acc: 0.9919 - val_loss: 0.3119 - val_acc: 0.9543\n",
      "Epoch 40/100\n",
      "54000/54000 [==============================] - 2s 38us/step - loss: 0.0202 - acc: 0.9918 - val_loss: 0.3031 - val_acc: 0.9512\n",
      "Epoch 41/100\n",
      "54000/54000 [==============================] - 2s 39us/step - loss: 0.0191 - acc: 0.9919 - val_loss: 0.3106 - val_acc: 0.9530\n",
      "Epoch 42/100\n",
      "54000/54000 [==============================] - 2s 44us/step - loss: 0.0185 - acc: 0.9926 - val_loss: 0.3230 - val_acc: 0.9550\n",
      "Epoch 43/100\n",
      "54000/54000 [==============================] - 3s 51us/step - loss: 0.0188 - acc: 0.9925 - val_loss: 0.3073 - val_acc: 0.9542\n",
      "Epoch 44/100\n",
      "54000/54000 [==============================] - 2s 45us/step - loss: 0.0177 - acc: 0.9933 - val_loss: 0.2973 - val_acc: 0.9538\n",
      "Epoch 45/100\n",
      "54000/54000 [==============================] - 3s 48us/step - loss: 0.0173 - acc: 0.9934 - val_loss: 0.3251 - val_acc: 0.9548\n",
      "Epoch 46/100\n",
      "54000/54000 [==============================] - 3s 49us/step - loss: 0.0167 - acc: 0.9935 - val_loss: 0.3013 - val_acc: 0.9568\n",
      "Epoch 47/100\n",
      "54000/54000 [==============================] - 2s 46us/step - loss: 0.0167 - acc: 0.9940 - val_loss: 0.3094 - val_acc: 0.9563\n",
      "Epoch 48/100\n",
      "54000/54000 [==============================] - 2s 45us/step - loss: 0.0155 - acc: 0.9944 - val_loss: 0.3074 - val_acc: 0.9558\n",
      "Epoch 49/100\n",
      "54000/54000 [==============================] - 3s 47us/step - loss: 0.0165 - acc: 0.9941 - val_loss: 0.3082 - val_acc: 0.9573\n",
      "Epoch 50/100\n",
      "54000/54000 [==============================] - 3s 47us/step - loss: 0.0149 - acc: 0.9949 - val_loss: 0.2988 - val_acc: 0.9592\n",
      "Epoch 51/100\n",
      "54000/54000 [==============================] - 3s 48us/step - loss: 0.0141 - acc: 0.9950 - val_loss: 0.3139 - val_acc: 0.9572\n",
      "Epoch 52/100\n",
      "54000/54000 [==============================] - 3s 46us/step - loss: 0.0144 - acc: 0.9950 - val_loss: 0.3208 - val_acc: 0.9583\n",
      "Epoch 53/100\n",
      "54000/54000 [==============================] - 3s 51us/step - loss: 0.0144 - acc: 0.9955 - val_loss: 0.3145 - val_acc: 0.9553\n",
      "Epoch 54/100\n",
      "54000/54000 [==============================] - 3s 49us/step - loss: 0.0138 - acc: 0.9955 - val_loss: 0.3259 - val_acc: 0.9593\n",
      "Epoch 55/100\n",
      "54000/54000 [==============================] - 3s 51us/step - loss: 0.0144 - acc: 0.9954 - val_loss: 0.3219 - val_acc: 0.9595\n",
      "Epoch 56/100\n",
      "54000/54000 [==============================] - 3s 50us/step - loss: 0.0130 - acc: 0.9959 - val_loss: 0.3262 - val_acc: 0.9598\n",
      "Epoch 57/100\n",
      "54000/54000 [==============================] - 3s 48us/step - loss: 0.0136 - acc: 0.9956 - val_loss: 0.3240 - val_acc: 0.9518\n",
      "Epoch 58/100\n",
      "54000/54000 [==============================] - 3s 48us/step - loss: 0.0127 - acc: 0.9960 - val_loss: 0.3212 - val_acc: 0.9593\n",
      "Epoch 59/100\n",
      "54000/54000 [==============================] - 2s 44us/step - loss: 0.0126 - acc: 0.9962 - val_loss: 0.3272 - val_acc: 0.9545\n",
      "Epoch 60/100\n",
      "54000/54000 [==============================] - 2s 44us/step - loss: 0.0135 - acc: 0.9958 - val_loss: 0.3150 - val_acc: 0.9587\n",
      "Epoch 61/100\n",
      "54000/54000 [==============================] - 2s 45us/step - loss: 0.0124 - acc: 0.9962 - val_loss: 0.3057 - val_acc: 0.9607\n",
      "Epoch 62/100\n",
      "54000/54000 [==============================] - 3s 47us/step - loss: 0.0127 - acc: 0.9967 - val_loss: 0.3131 - val_acc: 0.9575\n",
      "Epoch 63/100\n",
      "54000/54000 [==============================] - 2s 45us/step - loss: 0.0124 - acc: 0.9968 - val_loss: 0.3157 - val_acc: 0.9585\n",
      "Epoch 64/100\n",
      "54000/54000 [==============================] - 2s 46us/step - loss: 0.0115 - acc: 0.9967 - val_loss: 0.3148 - val_acc: 0.9560\n",
      "Epoch 65/100\n",
      "54000/54000 [==============================] - 2s 46us/step - loss: 0.0120 - acc: 0.9966 - val_loss: 0.3422 - val_acc: 0.9600\n",
      "Epoch 66/100\n",
      "54000/54000 [==============================] - 2s 45us/step - loss: 0.0113 - acc: 0.9969 - val_loss: 0.3016 - val_acc: 0.9603\n",
      "Epoch 67/100\n",
      "54000/54000 [==============================] - 2s 45us/step - loss: 0.0116 - acc: 0.9970 - val_loss: 0.3043 - val_acc: 0.9620\n",
      "Epoch 68/100\n",
      "54000/54000 [==============================] - 2s 46us/step - loss: 0.0115 - acc: 0.9967 - val_loss: 0.3170 - val_acc: 0.9618\n",
      "Epoch 69/100\n",
      "54000/54000 [==============================] - 2s 44us/step - loss: 0.0108 - acc: 0.9974 - val_loss: 0.3454 - val_acc: 0.9610\n",
      "Epoch 70/100\n",
      "54000/54000 [==============================] - 3s 47us/step - loss: 0.0110 - acc: 0.9972 - val_loss: 0.3024 - val_acc: 0.9612\n",
      "Epoch 71/100\n",
      "54000/54000 [==============================] - 3s 48us/step - loss: 0.0115 - acc: 0.9974 - val_loss: 0.3329 - val_acc: 0.9597\n",
      "Epoch 72/100\n",
      "54000/54000 [==============================] - 3s 47us/step - loss: 0.0101 - acc: 0.9976 - val_loss: 0.3100 - val_acc: 0.9598\n",
      "Epoch 73/100\n",
      "54000/54000 [==============================] - 3s 48us/step - loss: 0.0102 - acc: 0.9975 - val_loss: 0.3259 - val_acc: 0.9590\n",
      "Epoch 74/100\n",
      "54000/54000 [==============================] - 3s 48us/step - loss: 0.0103 - acc: 0.9975 - val_loss: 0.3154 - val_acc: 0.9600\n",
      "Epoch 75/100\n",
      "54000/54000 [==============================] - 3s 54us/step - loss: 0.0108 - acc: 0.9974 - val_loss: 0.2991 - val_acc: 0.9620\n",
      "Epoch 76/100\n",
      "54000/54000 [==============================] - 2s 45us/step - loss: 0.0100 - acc: 0.9976 - val_loss: 0.3095 - val_acc: 0.9600\n",
      "Epoch 77/100\n",
      "54000/54000 [==============================] - 2s 46us/step - loss: 0.0108 - acc: 0.9977 - val_loss: 0.3278 - val_acc: 0.9613\n",
      "Epoch 78/100\n",
      "54000/54000 [==============================] - 2s 44us/step - loss: 0.0100 - acc: 0.9978 - val_loss: 0.2981 - val_acc: 0.9623\n",
      "Epoch 79/100\n",
      "54000/54000 [==============================] - 2s 46us/step - loss: 0.0102 - acc: 0.9978 - val_loss: 0.3224 - val_acc: 0.9605\n",
      "Epoch 80/100\n",
      "54000/54000 [==============================] - 2s 43us/step - loss: 0.0096 - acc: 0.9979 - val_loss: 0.3123 - val_acc: 0.9635\n",
      "Epoch 81/100\n",
      "54000/54000 [==============================] - 2s 46us/step - loss: 0.0104 - acc: 0.9980 - val_loss: 0.3154 - val_acc: 0.9622\n",
      "Epoch 82/100\n",
      "54000/54000 [==============================] - 2s 44us/step - loss: 0.0092 - acc: 0.9978 - val_loss: 0.3460 - val_acc: 0.9600\n",
      "Epoch 83/100\n",
      "54000/54000 [==============================] - 2s 46us/step - loss: 0.0101 - acc: 0.9977 - val_loss: 0.3095 - val_acc: 0.9620\n",
      "Epoch 84/100\n",
      "54000/54000 [==============================] - 2s 45us/step - loss: 0.0095 - acc: 0.9978 - val_loss: 0.3014 - val_acc: 0.9635\n",
      "Epoch 85/100\n",
      "54000/54000 [==============================] - 2s 46us/step - loss: 0.0097 - acc: 0.9980 - val_loss: 0.3011 - val_acc: 0.9617\n",
      "Epoch 86/100\n",
      "54000/54000 [==============================] - 2s 45us/step - loss: 0.0092 - acc: 0.9980 - val_loss: 0.3110 - val_acc: 0.9615\n",
      "Epoch 87/100\n",
      "54000/54000 [==============================] - 2s 45us/step - loss: 0.0092 - acc: 0.9979 - val_loss: 0.3045 - val_acc: 0.9618\n",
      "Epoch 88/100\n",
      "54000/54000 [==============================] - 2s 45us/step - loss: 0.0094 - acc: 0.9982 - val_loss: 0.3212 - val_acc: 0.9625\n",
      "Epoch 89/100\n",
      "54000/54000 [==============================] - 3s 46us/step - loss: 0.0092 - acc: 0.9981 - val_loss: 0.3124 - val_acc: 0.9617\n",
      "Epoch 90/100\n",
      "54000/54000 [==============================] - 2s 46us/step - loss: 0.0089 - acc: 0.9980 - val_loss: 0.3099 - val_acc: 0.9612\n",
      "Epoch 91/100\n",
      "54000/54000 [==============================] - 3s 47us/step - loss: 0.0087 - acc: 0.9983 - val_loss: 0.2902 - val_acc: 0.9622\n",
      "Epoch 92/100\n",
      "54000/54000 [==============================] - 3s 54us/step - loss: 0.0085 - acc: 0.9982 - val_loss: 0.3043 - val_acc: 0.9633\n",
      "Epoch 93/100\n",
      "54000/54000 [==============================] - 2s 39us/step - loss: 0.0089 - acc: 0.9981 - val_loss: 0.2998 - val_acc: 0.9605\n",
      "Epoch 94/100\n",
      "54000/54000 [==============================] - 2s 39us/step - loss: 0.0087 - acc: 0.9984 - val_loss: 0.3245 - val_acc: 0.9625\n",
      "Epoch 95/100\n",
      "54000/54000 [==============================] - 2s 36us/step - loss: 0.0088 - acc: 0.9983 - val_loss: 0.3206 - val_acc: 0.9625\n",
      "Epoch 96/100\n",
      "54000/54000 [==============================] - 3s 53us/step - loss: 0.0083 - acc: 0.9982 - val_loss: 0.3378 - val_acc: 0.9635\n",
      "Epoch 97/100\n",
      "54000/54000 [==============================] - 3s 52us/step - loss: 0.0083 - acc: 0.9984 - val_loss: 0.3029 - val_acc: 0.9638\n",
      "Epoch 98/100\n",
      "54000/54000 [==============================] - 2s 38us/step - loss: 0.0083 - acc: 0.9983 - val_loss: 0.3123 - val_acc: 0.9635\n",
      "Epoch 99/100\n",
      "54000/54000 [==============================] - 3s 61us/step - loss: 0.0084 - acc: 0.9988 - val_loss: 0.3220 - val_acc: 0.9635\n",
      "Epoch 100/100\n",
      "54000/54000 [==============================] - 3s 50us/step - loss: 0.0076 - acc: 0.9984 - val_loss: 0.3323 - val_acc: 0.9652\n",
      "4min 18s ± 0 ns per loop (mean ± std. dev. of 1 run, 1 loop each)\n",
      "10000/10000 [==============================] - 1s 63us/step\n",
      "Test accuracy: 0.9581\n"
     ]
    }
   ],
   "source": [
    "inputs = Input(shape=(28,28,))\n",
    "x = Flatten()(inputs)\n",
    "x = Lambda(lambda x: x/255)(x)d\n",
    "x = Dense(128, activation='relu')(x)\n",
    "x = Dense(64, activation='relu')(x)\n",
    "x = Dense(10, activation='softmax')(x)\n",
    "out = Dense(1, activation='relu')(x)\n",
    "model = Model(inputs=inputs, outputs=out)\n",
    "\n",
    "model.compile(optimizer='adadelta', loss='mse', metrics=['accuracy'])\n",
    "\n",
    "NAME = \"custom_model-{}\".format(int(time.time()))\n",
    "\n",
    "tensorboard = TensorBoard(log_dir='./logs/{}'.format(NAME))\n",
    "\n",
    "print('Running Custom Model')\n",
    "%timeit -n 1 -r 1 model.fit(X_train, y_train, batch_size=128, epochs=100, callbacks=[tensorboard], validation_split=0.1)\n",
    "\n",
    "score = model.evaluate(X_test, y_test, verbose=1)\n",
    "print('Test accuracy:', score[1])"
   ]
  },
  {
   "cell_type": "code",
   "execution_count": 60,
   "metadata": {},
   "outputs": [],
   "source": [
    "Y_train = np_utils.to_categorical(y_train)\n",
    "Y_test = np_utils.to_categorical(y_test)"
   ]
  },
  {
   "cell_type": "code",
   "execution_count": 122,
   "metadata": {},
   "outputs": [
    {
     "name": "stdout",
     "output_type": "stream",
     "text": [
      "Running Custom Model\n",
      "Train on 54000 samples, validate on 6000 samples\n",
      "Epoch 1/12\n",
      "54000/54000 [==============================] - 4s 75us/step - loss: 0.3581 - acc: 0.8991 - val_loss: 0.1389 - val_acc: 0.9597\n",
      "Epoch 2/12\n",
      "54000/54000 [==============================] - 4s 65us/step - loss: 0.1426 - acc: 0.9582 - val_loss: 0.1089 - val_acc: 0.9710\n",
      "Epoch 3/12\n",
      "54000/54000 [==============================] - 3s 63us/step - loss: 0.0991 - acc: 0.9705 - val_loss: 0.0928 - val_acc: 0.9740\n",
      "Epoch 4/12\n",
      "54000/54000 [==============================] - 4s 69us/step - loss: 0.0762 - acc: 0.9774 - val_loss: 0.0885 - val_acc: 0.9728\n",
      "Epoch 5/12\n",
      "54000/54000 [==============================] - 4s 68us/step - loss: 0.0611 - acc: 0.9817 - val_loss: 0.0881 - val_acc: 0.9723\n",
      "Epoch 6/12\n",
      "54000/54000 [==============================] - 3s 65us/step - loss: 0.0485 - acc: 0.9850 - val_loss: 0.0917 - val_acc: 0.9727\n",
      "Epoch 7/12\n",
      "54000/54000 [==============================] - 4s 67us/step - loss: 0.0403 - acc: 0.9876 - val_loss: 0.0782 - val_acc: 0.9763\n",
      "Epoch 8/12\n",
      "54000/54000 [==============================] - 4s 67us/step - loss: 0.0324 - acc: 0.9901 - val_loss: 0.0851 - val_acc: 0.9755\n",
      "Epoch 9/12\n",
      "54000/54000 [==============================] - 4s 71us/step - loss: 0.0268 - acc: 0.9920 - val_loss: 0.0800 - val_acc: 0.9783\n",
      "Epoch 10/12\n",
      "54000/54000 [==============================] - 4s 66us/step - loss: 0.0210 - acc: 0.9937 - val_loss: 0.0795 - val_acc: 0.9790\n",
      "Epoch 11/12\n",
      "54000/54000 [==============================] - 4s 76us/step - loss: 0.0187 - acc: 0.9941 - val_loss: 0.0865 - val_acc: 0.9768\n",
      "Epoch 12/12\n",
      "54000/54000 [==============================] - 4s 72us/step - loss: 0.0169 - acc: 0.9948 - val_loss: 0.0824 - val_acc: 0.9783\n",
      "50.7 s ± 0 ns per loop (mean ± std. dev. of 1 run, 1 loop each)\n",
      "10000/10000 [==============================] - 1s 89us/step\n",
      "Test accuracy: 0.9781\n"
     ]
    }
   ],
   "source": [
    "inputs = Input(shape=(28,28,))\n",
    "x = Flatten()(inputs)\n",
    "x = Lambda(lambda x: x/255)(x)\n",
    "x = Dense(128, activation='relu')(x)\n",
    "x = Dense(64, activation='relu')(x)\n",
    "out = Dense(10, activation='softmax')(x)\n",
    "model = Model(inputs=inputs, outputs=out)\n",
    "\n",
    "model.compile(optimizer='adam', loss='categorical_crossentropy', metrics=['accuracy'])\n",
    "\n",
    "NAME = \"custom_cat-{}\".format(int(time.time()))\n",
    "\n",
    "tensorboard = TensorBoard(log_dir='./logs/{}'.format(NAME))\n",
    "\n",
    "print('Running Custom Model')\n",
    "%timeit -n 1 -r 1 model.fit(X_train, Y_train, batch_size=128, epochs=12, callbacks=[tensorboard], validation_split=0.1)\n",
    "\n",
    "score = model.evaluate(X_test, Y_test, verbose=1)\n",
    "print('Test accuracy:', score[1])"
   ]
  },
  {
   "cell_type": "markdown",
   "metadata": {},
   "source": [
    "**Which is better?**\n",
    "\n",
    "Well, it mostly depends on the type of preprocessing required and the use-case, but in our case the above example, it is obviously not good as adding preprocessing layers adds to training time of the network thus it is not good since we do preprocess every time in an epoch. However, it can be debated as the preprocessing is now also done on GPU. \n",
    "\n",
    "On the other hand some model requiring some kind of processing on embeddings, the latter would be effective."
   ]
  },
  {
   "cell_type": "markdown",
   "metadata": {
    "colab_type": "text",
    "id": "ZVic88XRWFFV"
   },
   "source": [
    "\n",
    "\n",
    "---\n",
    "\n",
    "# Fin. Happy Coding!"
   ]
  }
 ],
 "metadata": {
  "colab": {
   "collapsed_sections": [],
   "name": "Keras with Tensorflow.ipynb",
   "provenance": [],
   "version": "0.3.2"
  },
  "kernelspec": {
   "display_name": "Python 3",
   "language": "python",
   "name": "python3"
  },
  "language_info": {
   "codemirror_mode": {
    "name": "ipython",
    "version": 3
   },
   "file_extension": ".py",
   "mimetype": "text/x-python",
   "name": "python",
   "nbconvert_exporter": "python",
   "pygments_lexer": "ipython3",
   "version": "3.5.2"
  }
 },
 "nbformat": 4,
 "nbformat_minor": 1
}
