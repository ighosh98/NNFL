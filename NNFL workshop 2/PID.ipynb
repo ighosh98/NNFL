{
 "cells": [
  {
   "cell_type": "markdown",
   "metadata": {},
   "source": [
    "## Basic PID Implementation"
   ]
  },
  {
   "cell_type": "code",
   "execution_count": 2,
   "metadata": {},
   "outputs": [],
   "source": [
    "import math\n",
    "import numpy as np\n",
    "import matplotlib.pyplot as plt"
   ]
  },
  {
   "cell_type": "markdown",
   "metadata": {},
   "source": [
    "### Plant Function\n",
    "$$H(s) = \\frac{U_p(s)}{M(s)} = \\frac{1}{1+ \\tau _p s}$$\n",
    "$$U_p(s) * (1+ \\tau _p s) = M(s)$$\n",
    "$$U_p(s) + (\\tau _p s) * U_p(s) = M(s)$$\n",
    "$$u_p(t) + \\tau _p \\frac{u_p(t)}{dt} = m(t)$$\n",
    "\n",
    "#### Discretizing the equation. Sampling at $F_s$\n",
    "$$u_p(nT_s) + \\tau _p \\frac{u_p((n+1)T_s) - u_p(nT_s)}{T_s} = m(nT_s)$$\n",
    "\n",
    "$$u_p(nT_s) + \\tau _p \\frac{u_p((n+1)T_s) - u_p(nT_s)}{T_s} = m(nT_s)$$\n",
    "\n",
    "#### Finally getting\n",
    "$$u_p((n+1)T_s) = \\left(1 -\\frac{T_s}{\\tau _p}\\right) u_p(nT_s) +  \\left(\\frac{T_s}{\\tau _p} \\right) m(nT_s)$$\n",
    "\n"
   ]
  },
  {
   "cell_type": "code",
   "execution_count": 3,
   "metadata": {},
   "outputs": [],
   "source": [
    "# Initialization\n",
    "\n",
    "Fs = 100 # Sampling Frequency\n",
    "Tf = 10 # Final Time\n",
    "Ti = 0 # Initial Time\n",
    "\n",
    "Ts = 1 / Fs"
   ]
  },
  {
   "cell_type": "code",
   "execution_count": 4,
   "metadata": {},
   "outputs": [],
   "source": [
    "# Number of samples\n",
    "n_samples = math.floor(Tf / Ts) \n",
    "t = np.arange(Ti,Tf,Ts)\n"
   ]
  },
  {
   "cell_type": "code",
   "execution_count": 5,
   "metadata": {},
   "outputs": [],
   "source": [
    "# Parameters\n",
    "tau = 2\n",
    "Kp = 5\n",
    "Ki = 5\n",
    "Kd = 0.1"
   ]
  },
  {
   "cell_type": "code",
   "execution_count": 6,
   "metadata": {},
   "outputs": [],
   "source": [
    "# Step response\n",
    "m = np.ones(n_samples+1)\n",
    "m_cont = np.zeros(n_samples+1)\n",
    "\n",
    "y_open_loop = np.zeros(n_samples+1)\n",
    "y = np.zeros(n_samples+1)\n",
    "y_sp = 2*np.ones(n_samples+1) # Reference\n",
    "\n",
    "\n",
    "e = np.zeros(n_samples+1)\n",
    "int_e = np.zeros(n_samples+1)\n",
    "diff_e = np.zeros(n_samples+1)"
   ]
  },
  {
   "cell_type": "code",
   "execution_count": 7,
   "metadata": {},
   "outputs": [],
   "source": [
    "for i in range(0,n_samples):\n",
    "    y_open_loop[i+1] = (1 - (Ts/tau))*y_open_loop[i] + (Ts/tau)*m[i]\n",
    "    y[i+1] = (1 - (Ts/tau))*y[i] + (Ts/tau)*m_cont[i]\n",
    "    \n",
    "    e[i+1] = y_sp[i+1] - y[i+1] # Calculation of Error\n",
    "    int_e[i+1] = int_e[i] + Ts* e[i+1] # Calculation of Integral of Error\n",
    "    diff_e[i+1] = (e[i+1] - e[i]) /Ts # Calculation of Derivative of Error\n",
    "    m_cont[i+1] = Kp* e[i+1] + Ki * int_e[i+1] + Kd* diff_e[i+1] # Calculation of Controller Output\n",
    "    \n"
   ]
  },
  {
   "cell_type": "code",
   "execution_count": 8,
   "metadata": {
    "scrolled": true
   },
   "outputs": [
    {
     "data": {
      "image/png": "[encoded data removed]",
      "text/plain": [
       "<Figure size 432x288 with 1 Axes>"
      ]
     },
     "metadata": {
      "needs_background": "light"
     },
     "output_type": "display_data"
    }
   ],
   "source": [
    "fig = plt.figure()\n",
    "ax = plt.subplot(111)\n",
    "ax.plot(t,y_open_loop[1:],'r-', label='Open Loop')\n",
    "ax.plot(t,y[1:], 'b-', label='Closed Loop')\n",
    "plt.title('Responses')\n",
    "ax.legend()\n",
    "plt.show()\n"
   ]
  },
  {
   "cell_type": "markdown",
   "metadata": {},
   "source": [
    "## Video Reference\n",
    "https://www.youtube.com/watch?v=wkfEZmsQqiA&list=PLn8PRpmsu08pQBgjxYFXSsODEF3Jqmm-y\n",
    "https://www.youtube.com/watch?v=UR0hOmjaHp0"
   ]
  }
 ],
 "metadata": {
  "kernelspec": {
   "display_name": "Python 3",
   "language": "python",
   "name": "python3"
  },
  "language_info": {
   "codemirror_mode": {
    "name": "ipython",
    "version": 3
   },
   "file_extension": ".py",
   "mimetype": "text/x-python",
   "name": "python",
   "nbconvert_exporter": "python",
   "pygments_lexer": "ipython3",
   "version": "3.6.8"
  }
 },
 "nbformat": 4,
 "nbformat_minor": 2
}
